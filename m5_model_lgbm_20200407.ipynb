{
 "cells": [
  {
   "cell_type": "code",
   "execution_count": 1,
   "metadata": {},
   "outputs": [
    {
     "name": "stdout",
     "output_type": "stream",
     "text": [
      "available GPU devices: 1  | device num: 0\n"
     ]
    }
   ],
   "source": [
    "import os\n",
    "import gc\n",
    "import pandas as pd\n",
    "import numpy as np\n",
    "import matplotlib.pyplot as plt\n",
    "from tqdm import tqdm_notebook\n",
    "from datetime import datetime, timedelta\n",
    "from sklearn.preprocessing import MinMaxScaler\n",
    "from sklearn.utils import shuffle\n",
    "import lightgbm as lgb\n",
    "from tqdm.notebook import tqdm\n",
    "pd.set_option('display.max_columns', None)\n",
    "print('available GPU devices:', len(os.environ['CUDA_VISIBLE_DEVICES']), \n",
    "      ' | device num:', os.environ['CUDA_VISIBLE_DEVICES'])"
   ]
  },
  {
   "cell_type": "code",
   "execution_count": 2,
   "metadata": {},
   "outputs": [
    {
     "name": "stdout",
     "output_type": "stream",
     "text": [
      "2016-04-24 00:00:00\n"
     ]
    }
   ],
   "source": [
    "DATA_DIR = './data'\n",
    "MODELS_DIR = './models'\n",
    "MODEL_VER = 'v0'\n",
    "BACKWARD_LAGS = 60\n",
    "CUT_DATE = '2012-01-01'\n",
    "VAL_DATE = '2016-04-01'\n",
    "END_DATE = '2016-04-24'\n",
    "print(datetime.strptime(END_DATE, '%Y-%m-%d'))\n",
    "#-----|CUT_DATE|---train---|VAL_DATE|--val--|END_DATE|--forecast +28 days-->"
   ]
  },
  {
   "cell_type": "code",
   "execution_count": 3,
   "metadata": {},
   "outputs": [],
   "source": [
    "CALENDAR_DTYPES = {\n",
    "    'date':             'str',\n",
    "    'wm_yr_wk':         'int16', \n",
    "    'weekday':          'object',\n",
    "    'wday':             'int16', \n",
    "    'month':            'int16', \n",
    "    'year':             'int16', \n",
    "    'd':                'object',\n",
    "    'event_name_1':     'object',\n",
    "    'event_type_1':     'object',\n",
    "    'event_name_2':     'object',\n",
    "    'event_type_2':     'object',\n",
    "    'snap_CA':          'int16', \n",
    "    'snap_TX':          'int16', \n",
    "    'snap_WI':          'int16'\n",
    "}\n",
    "PARSE_DATES = ['date']\n",
    "SPRICES_DTYPES = {\n",
    "    'store_id':    'object', \n",
    "    'item_id':     'object', \n",
    "    'wm_yr_wk':    'int16',  \n",
    "    'sell_price':  'float32'\n",
    "}"
   ]
  },
  {
   "cell_type": "code",
   "execution_count": 4,
   "metadata": {},
   "outputs": [],
   "source": [
    "def get_df(is_train=True, backward_lags=None):\n",
    "    strain = pd.read_csv('{}/sales_train_validation.csv'.format(DATA_DIR))\n",
    "    print('read train:', strain.shape)\n",
    "    cat_cols = ['id', 'item_id', 'dept_id','store_id', 'cat_id', 'state_id']\n",
    "    last_day = int(strain.columns[-1].replace('d_', ''))\n",
    "    print('last day is:', last_day)\n",
    "    if not is_train:\n",
    "        for day in range(last_day + 1, last_day + 29):\n",
    "            strain['d_{}'.format(day)] = np.nan\n",
    "    strain = pd.melt(\n",
    "        strain,\n",
    "        id_vars = cat_cols,\n",
    "        value_vars = [col for col in strain.columns if col.startswith('d_')],\n",
    "        var_name = 'd',\n",
    "        value_name = 'sales'\n",
    "    )\n",
    "    print('melted train:', strain.shape)\n",
    "    calendar = pd.read_csv('{}/calendar.csv'.format(DATA_DIR), dtype=CALENDAR_DTYPES, parse_dates=PARSE_DATES)\n",
    "    print('read calendar:', calendar.shape)\n",
    "    strain = strain.merge(calendar, on='d', copy=False)\n",
    "    print('calendar merge done')\n",
    "    sprices = pd.read_csv('{}/sell_prices.csv'.format(DATA_DIR), dtype=SPRICES_DTYPES)\n",
    "    print('read prices:', sprices.shape)\n",
    "    strain = strain.merge(\n",
    "        sprices, \n",
    "        on=['store_id', 'item_id', 'wm_yr_wk'], \n",
    "        copy=False\n",
    "    )\n",
    "    print('prices merge done')\n",
    "    print('begin train date:', strain['date'].min())\n",
    "    print('end train date:', strain['date'].max())\n",
    "    if not is_train:\n",
    "        strain = strain.loc[\n",
    "            strain['date'] >= (datetime.strptime(END_DATE, '%Y-%m-%d') - timedelta(days=backward_lags))\n",
    "        ]\n",
    "    else:\n",
    "        strain = strain.loc[strain['date'] >= CUT_DATE]\n",
    "    print('date cut train:', strain.shape)\n",
    "    print('cut train date:', strain['date'].min())\n",
    "    print('end train date:', strain['date'].max())\n",
    "    return strain"
   ]
  },
  {
   "cell_type": "code",
   "execution_count": 5,
   "metadata": {},
   "outputs": [],
   "source": [
    "def make_features(strain):\n",
    "    print('in dataframe:', strain.shape)\n",
    "    lags = [7, 28]\n",
    "    windows= [7, 28]\n",
    "    wnd_feats = [\n",
    "        'id', \n",
    "        'item_id', \n",
    "        #'dept_id', \n",
    "        #'store_id', \n",
    "        #'cat_id', \n",
    "        #'state_id'\n",
    "    ]\n",
    "    lag_cols = ['lag_{}'.format(lag) for lag in lags ]\n",
    "    for lag, lag_col in zip(lags, lag_cols):\n",
    "        strain[lag_col] = strain[['id', 'sales']].groupby('id')['sales'].shift(lag)\n",
    "    print('lag sales done')\n",
    "    for wnd_feat in wnd_feats:\n",
    "        for wnd in windows:\n",
    "            for lag_col in lag_cols:\n",
    "                wnd_col = '{}_{}_rmean_{}'.format(lag_col, wnd_feat, wnd)\n",
    "                strain[wnd_col] = strain[[wnd_feat, lag_col]].groupby(wnd_feat)[lag_col].transform(\n",
    "                    lambda x: x.rolling(wnd).mean()\n",
    "                )\n",
    "        print('rolling mean sales for feature done:', wnd_feat)\n",
    "    date_features = {\n",
    "        'week_num': 'weekofyear',\n",
    "        'quarter': 'quarter',\n",
    "        'mday': 'day'\n",
    "    }\n",
    "    for date_feat_name, date_feat_func in date_features.items():\n",
    "        strain[date_feat_name] = getattr(strain['date'].dt, date_feat_func).astype('int16')\n",
    "    print('date features done')\n",
    "    strain['d'] = strain['d'].apply(lambda x: int(x.replace('d_', '')))  \n",
    "    print('out dataframe:', strain.shape)\n",
    "    return strain"
   ]
  },
  {
   "cell_type": "code",
   "execution_count": 28,
   "metadata": {},
   "outputs": [],
   "source": [
    "def lgbm_proc(strain, cat_cols):\n",
    "    strain[cat_cols] = strain[cat_cols].fillna(0)\n",
    "    for col in tqdm(cat_cols):\n",
    "        strain[col]= strain[col].astype('category')\n",
    "        strain[col] = strain[col].cat.codes.astype('int16')\n",
    "        strain[col] -= strain[col].min()\n",
    "    return strain"
   ]
  },
  {
   "cell_type": "code",
   "execution_count": 6,
   "metadata": {},
   "outputs": [
    {
     "name": "stdout",
     "output_type": "stream",
     "text": [
      "read train: (30490, 1919)\n",
      "last day is: 1913\n",
      "melted train: (58327370, 8)\n",
      "read calendar: (1969, 14)\n",
      "calendar merge done\n",
      "read prices: (6841121, 4)\n",
      "prices merge done\n",
      "begin train date: 2011-01-29 00:00:00\n",
      "end train date: 2016-04-24 00:00:00\n",
      "date cut train: (40919927, 22)\n",
      "cut train date: 2012-01-01 00:00:00\n",
      "end train date: 2016-04-24 00:00:00\n",
      "CPU times: user 38.8 s, sys: 6.58 s, total: 45.4 s\n",
      "Wall time: 45.4 s\n"
     ]
    }
   ],
   "source": [
    "%%time\n",
    "strain = get_df(is_train=True, backward_lags=None)"
   ]
  },
  {
   "cell_type": "code",
   "execution_count": 7,
   "metadata": {},
   "outputs": [
    {
     "name": "stdout",
     "output_type": "stream",
     "text": [
      "in dataframe: (40919927, 22)\n",
      "lag sales done\n",
      "rolling mean sales for feature done: id\n",
      "rolling mean sales for feature done: item_id\n",
      "date features done\n",
      "out dataframe: (40919927, 35)\n",
      "CPU times: user 2min 2s, sys: 8.32 s, total: 2min 10s\n",
      "Wall time: 2min 10s\n"
     ]
    }
   ],
   "source": [
    "%%time\n",
    "strain = make_features(strain)"
   ]
  },
  {
   "cell_type": "code",
   "execution_count": 8,
   "metadata": {},
   "outputs": [
    {
     "name": "stdout",
     "output_type": "stream",
     "text": [
      "from 2012-01-01 00:00:00 to 2016-04-24 00:00:00\n"
     ]
    },
    {
     "data": {
      "image/png": "[encoded data removed]",
      "text/plain": [
       "<Figure size 1296x288 with 1 Axes>"
      ]
     },
     "metadata": {
      "needs_background": "light"
     },
     "output_type": "display_data"
    }
   ],
   "source": [
    "id_name = 'HOBBIES_1_008_CA_1_validation'\n",
    "id_sales = strain.loc[strain['id'] == id_name].set_index('date')\n",
    "print('from', strain['date'].min(), 'to', strain['date'].max()) \n",
    "plt.figure(figsize=(18, 4))\n",
    "id_sales['sales'].plot(label='sales')\n",
    "id_sales['lag_7'].plot(label='lag_7')\n",
    "id_sales['lag_7_id_rmean_7'].plot(label='lag_7_id_rmean_7')\n",
    "#id_sales['lag_7_store_id_rmean_7'].plot(label='lag_7_store_id_rmean_7')\n",
    "#id_sales['lag_7_cat_id_rmean_7'].plot(label='lag_7_cat_id_rmean_7')\n",
    "plt.title(id_name)\n",
    "plt.legend()\n",
    "plt.show()"
   ]
  },
  {
   "cell_type": "code",
   "execution_count": 9,
   "metadata": {},
   "outputs": [
    {
     "data": {
      "application/vnd.jupyter.widget-view+json": {
       "model_id": "62a5d4461f7d4348961c8a3da9357525",
       "version_major": 2,
       "version_minor": 0
      },
      "text/plain": [
       "HBox(children=(FloatProgress(value=0.0, max=12.0), HTML(value='')))"
      ]
     },
     "metadata": {},
     "output_type": "display_data"
    },
    {
     "name": "stdout",
     "output_type": "stream",
     "text": [
      "\n"
     ]
    }
   ],
   "source": [
    "drop_cols = ['id', 'sales', 'date', 'wm_yr_wk', 'weekday']\n",
    "train_cols = strain.columns[~strain.columns.isin(drop_cols)]\n",
    "cat_cols = [\n",
    "    'item_id', 'dept_id', 'store_id', 'cat_id', 'state_id', \n",
    "    #'year', 'wday', 'month', 'quarter',\n",
    "    'event_name_1', 'event_type_1', 'event_name_2', 'event_type_2',\n",
    "    'snap_CA', 'snap_TX', 'snap_WI'\n",
    "]\n",
    "strain = lgbm_proc(strain, cat_cols)"
   ]
  },
  {
   "cell_type": "code",
   "execution_count": 10,
   "metadata": {},
   "outputs": [
    {
     "name": "stdout",
     "output_type": "stream",
     "text": [
      "train shapes: (34781938, 30) 34781938\n",
      "val shapes: (6137989, 30) 6137989\n",
      "CPU times: user 16.8 s, sys: 1.55 s, total: 18.4 s\n",
      "Wall time: 18.4 s\n"
     ]
    }
   ],
   "source": [
    "%%time\n",
    "val_size = int(strain.shape[0] * .15)\n",
    "val_idxs = np.random.choice(strain.index.values, val_size, replace=False)\n",
    "train_idxs = np.setdiff1d(strain.index.values, val_idxs)\n",
    "X_train = strain.loc[train_idxs][train_cols]\n",
    "y_train = strain.loc[train_idxs]['sales']\n",
    "X_val = strain.loc[val_idxs][train_cols]\n",
    "y_val = strain.loc[val_idxs]['sales']\n",
    "print('train shapes:', X_train.shape, len(y_train))\n",
    "print('val shapes:', X_val.shape, len(y_val))\n",
    "train_lgb = lgb.Dataset(X_train, label=y_train, categorical_feature=cat_cols, free_raw_data=False)\n",
    "val_lgb = lgb.Dataset(X_val, label=y_val, categorical_feature=cat_cols, free_raw_data=False)"
   ]
  },
  {
   "cell_type": "code",
   "execution_count": 11,
   "metadata": {
    "scrolled": true
   },
   "outputs": [
    {
     "data": {
      "text/plain": [
       "187"
      ]
     },
     "execution_count": 11,
     "metadata": {},
     "output_type": "execute_result"
    }
   ],
   "source": [
    "del X_train, y_train, X_val, y_val, val_idxs, train_idxs\n",
    "gc.collect()"
   ]
  },
  {
   "cell_type": "code",
   "execution_count": 12,
   "metadata": {
    "scrolled": true
   },
   "outputs": [
    {
     "name": "stderr",
     "output_type": "stream",
     "text": [
      "/opt/conda/envs/mrorangeenv/lib/python3.7/site-packages/lightgbm/engine.py:148: UserWarning: Found `num_iterations` in params. Will use it instead of argument\n",
      "  warnings.warn(\"Found `{}` in params. Will use it instead of argument\".format(alias))\n",
      "/opt/conda/envs/mrorangeenv/lib/python3.7/site-packages/lightgbm/basic.py:1243: UserWarning: Using categorical_feature in Dataset.\n",
      "  warnings.warn('Using categorical_feature in Dataset.')\n"
     ]
    },
    {
     "name": "stdout",
     "output_type": "stream",
     "text": [
      "[20]\tvalid_0's rmse: 2.94573\n",
      "[40]\tvalid_0's rmse: 2.61004\n",
      "[60]\tvalid_0's rmse: 2.52319\n",
      "[80]\tvalid_0's rmse: 2.49822\n",
      "[100]\tvalid_0's rmse: 2.48527\n",
      "[120]\tvalid_0's rmse: 2.47634\n",
      "[140]\tvalid_0's rmse: 2.46681\n",
      "[160]\tvalid_0's rmse: 2.45626\n",
      "[180]\tvalid_0's rmse: 2.44799\n",
      "[200]\tvalid_0's rmse: 2.44024\n",
      "[220]\tvalid_0's rmse: 2.4332\n",
      "[240]\tvalid_0's rmse: 2.42878\n",
      "[260]\tvalid_0's rmse: 2.42359\n",
      "[280]\tvalid_0's rmse: 2.42025\n",
      "[300]\tvalid_0's rmse: 2.41443\n",
      "[320]\tvalid_0's rmse: 2.40964\n",
      "[340]\tvalid_0's rmse: 2.40616\n",
      "[360]\tvalid_0's rmse: 2.40267\n",
      "[380]\tvalid_0's rmse: 2.39928\n",
      "[400]\tvalid_0's rmse: 2.39477\n",
      "[420]\tvalid_0's rmse: 2.39124\n",
      "[440]\tvalid_0's rmse: 2.38796\n",
      "[460]\tvalid_0's rmse: 2.38482\n",
      "[480]\tvalid_0's rmse: 2.38203\n",
      "[500]\tvalid_0's rmse: 2.37831\n",
      "[520]\tvalid_0's rmse: 2.37521\n",
      "[540]\tvalid_0's rmse: 2.37395\n",
      "[560]\tvalid_0's rmse: 2.37123\n",
      "[580]\tvalid_0's rmse: 2.36881\n",
      "[600]\tvalid_0's rmse: 2.36656\n",
      "[620]\tvalid_0's rmse: 2.36396\n",
      "[640]\tvalid_0's rmse: 2.36185\n",
      "[660]\tvalid_0's rmse: 2.36008\n",
      "[680]\tvalid_0's rmse: 2.35867\n",
      "[700]\tvalid_0's rmse: 2.35612\n",
      "[720]\tvalid_0's rmse: 2.35419\n",
      "[740]\tvalid_0's rmse: 2.35295\n",
      "[760]\tvalid_0's rmse: 2.35053\n",
      "[780]\tvalid_0's rmse: 2.34918\n",
      "[800]\tvalid_0's rmse: 2.34748\n",
      "[820]\tvalid_0's rmse: 2.34647\n",
      "[840]\tvalid_0's rmse: 2.34381\n",
      "[860]\tvalid_0's rmse: 2.3424\n",
      "[880]\tvalid_0's rmse: 2.34129\n",
      "[900]\tvalid_0's rmse: 2.34024\n",
      "[920]\tvalid_0's rmse: 2.33901\n",
      "[940]\tvalid_0's rmse: 2.3373\n",
      "[960]\tvalid_0's rmse: 2.33563\n",
      "[980]\tvalid_0's rmse: 2.33455\n",
      "[1000]\tvalid_0's rmse: 2.33319\n",
      "[1020]\tvalid_0's rmse: 2.33228\n",
      "[1040]\tvalid_0's rmse: 2.3307\n",
      "[1060]\tvalid_0's rmse: 2.32974\n",
      "[1080]\tvalid_0's rmse: 2.32787\n",
      "[1100]\tvalid_0's rmse: 2.32667\n",
      "[1120]\tvalid_0's rmse: 2.32584\n",
      "[1140]\tvalid_0's rmse: 2.32453\n",
      "[1160]\tvalid_0's rmse: 2.32346\n",
      "[1180]\tvalid_0's rmse: 2.32178\n",
      "[1200]\tvalid_0's rmse: 2.3211\n",
      "CPU times: user 10h 24min 40s, sys: 22.6 s, total: 10h 25min 3s\n",
      "Wall time: 22min 35s\n"
     ]
    }
   ],
   "source": [
    "%%time\n",
    "params = {\n",
    "    'objective' : 'poisson',\n",
    "    'metric' :'rmse',\n",
    "    'force_row_wise' : True,\n",
    "    'learning_rate' : .075,\n",
    "    #'sub_feature' : .8,\n",
    "    'sub_row' : .75,\n",
    "    'bagging_freq' : 1,\n",
    "    'lambda_l2' : .1,\n",
    "    #'nthread' : 4\n",
    "    'metric': ['rmse'],\n",
    "    'verbosity': 1,\n",
    "    'num_iterations' : 1200,\n",
    "    'num_leaves': 128,\n",
    "    'min_data_in_leaf': 100,\n",
    "}\n",
    "model = lgb.train(params, train_lgb, valid_sets=[val_lgb], verbose_eval=20) "
   ]
  },
  {
   "cell_type": "code",
   "execution_count": 13,
   "metadata": {},
   "outputs": [
    {
     "data": {
      "text/plain": [
       "<lightgbm.basic.Booster at 0x7f95c81b7d50>"
      ]
     },
     "execution_count": 13,
     "metadata": {},
     "output_type": "execute_result"
    }
   ],
   "source": [
    "model.save_model('{}/model_{}.lgb'.format(MODELS_DIR, MODEL_VER))"
   ]
  },
  {
   "cell_type": "code",
   "execution_count": 29,
   "metadata": {},
   "outputs": [],
   "source": [
    "model = lgb.Booster(model_file='{}/model_{}.lgb'.format(MODELS_DIR, MODEL_VER))"
   ]
  },
  {
   "cell_type": "code",
   "execution_count": 30,
   "metadata": {},
   "outputs": [],
   "source": [
    "feat_importances = sorted(\n",
    "    [(f, v) for f, v in zip(train_cols, model.feature_importance())],\n",
    "    key=lambda x: x[1],\n",
    "    reverse=True\n",
    ")"
   ]
  },
  {
   "cell_type": "code",
   "execution_count": 31,
   "metadata": {},
   "outputs": [
    {
     "data": {
      "image/png": "[encoded data removed]",
      "text/plain": [
       "<Figure size 720x576 with 1 Axes>"
      ]
     },
     "metadata": {
      "needs_background": "light"
     },
     "output_type": "display_data"
    }
   ],
   "source": [
    "fig, ax = plt.subplots(figsize=(10, 8))\n",
    "labels, values = [x[0] for x in feat_importances if x[1] > .5], [x[1] for x in feat_importances if x[1] > .5]\n",
    "y_pos = np.arange(len(labels))\n",
    "ax.barh(y_pos, values)\n",
    "ax.set_yticks(y_pos)\n",
    "ax.set_yticklabels(labels)\n",
    "ax.invert_yaxis()\n",
    "ax.set_xlabel('Performance')\n",
    "ax.set_title('feature importances')\n",
    "plt.show()"
   ]
  },
  {
   "cell_type": "code",
   "execution_count": 32,
   "metadata": {},
   "outputs": [
    {
     "name": "stdout",
     "output_type": "stream",
     "text": [
      "731760\n"
     ]
    }
   ],
   "source": [
    "spred = strain[strain['date'] >= VAL_DATE].copy()\n",
    "preds = model.predict(spred[train_cols])\n",
    "print(len(preds))\n",
    "spred.loc[:, 'sales'] = preds"
   ]
  },
  {
   "cell_type": "code",
   "execution_count": 33,
   "metadata": {},
   "outputs": [
    {
     "name": "stdout",
     "output_type": "stream",
     "text": [
      "id to draw: HOBBIES_1_261_CA_1_validation\n",
      "from 2012-01-01 00:00:00 to 2016-04-24 00:00:00\n"
     ]
    },
    {
     "data": {
      "image/png": "[encoded data removed]",
      "text/plain": [
       "<Figure size 1296x288 with 1 Axes>"
      ]
     },
     "metadata": {
      "needs_background": "light"
     },
     "output_type": "display_data"
    }
   ],
   "source": [
    "id_name = np.random.choice(strain['id'].unique())\n",
    "print('id to draw:', id_name)\n",
    "id_sales = strain.loc[(strain['id'] == id_name) & (strain['date'] >= VAL_DATE)].set_index('date')\n",
    "id_sales_pred = spred.loc[spred['id'] == id_name].set_index('date')\n",
    "print('from', strain['date'].min(), 'to', strain['date'].max()) \n",
    "plt.figure(figsize=(18, 4))\n",
    "id_sales['sales'].plot(label='sales')\n",
    "id_sales_pred['sales'].plot(label='sales prediction')\n",
    "plt.title(id_name)\n",
    "plt.legend()\n",
    "plt.show()"
   ]
  },
  {
   "cell_type": "code",
   "execution_count": 34,
   "metadata": {
    "scrolled": true
   },
   "outputs": [
    {
     "name": "stdout",
     "output_type": "stream",
     "text": [
      "read train: (30490, 1919)\n",
      "last day is: 1913\n",
      "melted train: (59181090, 8)\n",
      "read calendar: (1969, 14)\n",
      "calendar merge done\n",
      "read prices: (6841121, 4)\n",
      "prices merge done\n",
      "begin train date: 2011-01-29 00:00:00\n",
      "end train date: 2016-05-22 00:00:00\n",
      "date cut train: (2713610, 22)\n",
      "cut train date: 2016-02-24 00:00:00\n",
      "end train date: 2016-05-22 00:00:00\n",
      "----------------------------------------------------------------------\n",
      "forecast day forward: 1 | forecast date: 2016-04-25 00:00:00\n",
      "in dataframe: (1890380, 22)\n",
      "lag sales done\n",
      "rolling mean sales for feature done: id\n",
      "rolling mean sales for feature done: item_id\n",
      "date features done\n",
      "out dataframe: (1890380, 35)\n"
     ]
    },
    {
     "data": {
      "application/vnd.jupyter.widget-view+json": {
       "model_id": "1ed4c238b88747c5929605d214530f61",
       "version_major": 2,
       "version_minor": 0
      },
      "text/plain": [
       "HBox(children=(FloatProgress(value=0.0, max=12.0), HTML(value='')))"
      ]
     },
     "metadata": {},
     "output_type": "display_data"
    },
    {
     "name": "stdout",
     "output_type": "stream",
     "text": [
      "\n",
      "----------------------------------------------------------------------\n",
      "forecast day forward: 2 | forecast date: 2016-04-26 00:00:00\n",
      "in dataframe: (1890380, 22)\n",
      "lag sales done\n",
      "rolling mean sales for feature done: id\n",
      "rolling mean sales for feature done: item_id\n",
      "date features done\n",
      "out dataframe: (1890380, 35)\n"
     ]
    },
    {
     "data": {
      "application/vnd.jupyter.widget-view+json": {
       "model_id": "78f6626f133f4ceebea108382da2db80",
       "version_major": 2,
       "version_minor": 0
      },
      "text/plain": [
       "HBox(children=(FloatProgress(value=0.0, max=12.0), HTML(value='')))"
      ]
     },
     "metadata": {},
     "output_type": "display_data"
    },
    {
     "name": "stdout",
     "output_type": "stream",
     "text": [
      "\n",
      "----------------------------------------------------------------------\n",
      "forecast day forward: 3 | forecast date: 2016-04-27 00:00:00\n",
      "in dataframe: (1890380, 22)\n",
      "lag sales done\n",
      "rolling mean sales for feature done: id\n",
      "rolling mean sales for feature done: item_id\n",
      "date features done\n",
      "out dataframe: (1890380, 35)\n"
     ]
    },
    {
     "data": {
      "application/vnd.jupyter.widget-view+json": {
       "model_id": "121006f633a54422b9f898f1be4f3c07",
       "version_major": 2,
       "version_minor": 0
      },
      "text/plain": [
       "HBox(children=(FloatProgress(value=0.0, max=12.0), HTML(value='')))"
      ]
     },
     "metadata": {},
     "output_type": "display_data"
    },
    {
     "name": "stdout",
     "output_type": "stream",
     "text": [
      "\n",
      "----------------------------------------------------------------------\n",
      "forecast day forward: 4 | forecast date: 2016-04-28 00:00:00\n",
      "in dataframe: (1890380, 22)\n",
      "lag sales done\n",
      "rolling mean sales for feature done: id\n",
      "rolling mean sales for feature done: item_id\n",
      "date features done\n",
      "out dataframe: (1890380, 35)\n"
     ]
    },
    {
     "data": {
      "application/vnd.jupyter.widget-view+json": {
       "model_id": "28f5de2b277146ce989b0e302178a8b2",
       "version_major": 2,
       "version_minor": 0
      },
      "text/plain": [
       "HBox(children=(FloatProgress(value=0.0, max=12.0), HTML(value='')))"
      ]
     },
     "metadata": {},
     "output_type": "display_data"
    },
    {
     "name": "stdout",
     "output_type": "stream",
     "text": [
      "\n",
      "----------------------------------------------------------------------\n",
      "forecast day forward: 5 | forecast date: 2016-04-29 00:00:00\n",
      "in dataframe: (1890380, 22)\n",
      "lag sales done\n",
      "rolling mean sales for feature done: id\n",
      "rolling mean sales for feature done: item_id\n",
      "date features done\n",
      "out dataframe: (1890380, 35)\n"
     ]
    },
    {
     "data": {
      "application/vnd.jupyter.widget-view+json": {
       "model_id": "4eed004dbb7a475f865c52442c5d2439",
       "version_major": 2,
       "version_minor": 0
      },
      "text/plain": [
       "HBox(children=(FloatProgress(value=0.0, max=12.0), HTML(value='')))"
      ]
     },
     "metadata": {},
     "output_type": "display_data"
    },
    {
     "name": "stdout",
     "output_type": "stream",
     "text": [
      "\n",
      "----------------------------------------------------------------------\n",
      "forecast day forward: 6 | forecast date: 2016-04-30 00:00:00\n",
      "in dataframe: (1890380, 22)\n",
      "lag sales done\n",
      "rolling mean sales for feature done: id\n",
      "rolling mean sales for feature done: item_id\n",
      "date features done\n",
      "out dataframe: (1890380, 35)\n"
     ]
    },
    {
     "data": {
      "application/vnd.jupyter.widget-view+json": {
       "model_id": "b758337924a441a38649a7a33a6cb4b1",
       "version_major": 2,
       "version_minor": 0
      },
      "text/plain": [
       "HBox(children=(FloatProgress(value=0.0, max=12.0), HTML(value='')))"
      ]
     },
     "metadata": {},
     "output_type": "display_data"
    },
    {
     "name": "stdout",
     "output_type": "stream",
     "text": [
      "\n",
      "----------------------------------------------------------------------\n",
      "forecast day forward: 7 | forecast date: 2016-05-01 00:00:00\n",
      "in dataframe: (1890380, 22)\n",
      "lag sales done\n",
      "rolling mean sales for feature done: id\n",
      "rolling mean sales for feature done: item_id\n",
      "date features done\n",
      "out dataframe: (1890380, 35)\n"
     ]
    },
    {
     "data": {
      "application/vnd.jupyter.widget-view+json": {
       "model_id": "402f4dff06634a3ab65b9c3d8d64eb4b",
       "version_major": 2,
       "version_minor": 0
      },
      "text/plain": [
       "HBox(children=(FloatProgress(value=0.0, max=12.0), HTML(value='')))"
      ]
     },
     "metadata": {},
     "output_type": "display_data"
    },
    {
     "name": "stdout",
     "output_type": "stream",
     "text": [
      "\n",
      "----------------------------------------------------------------------\n",
      "forecast day forward: 8 | forecast date: 2016-05-02 00:00:00\n",
      "in dataframe: (1890380, 22)\n",
      "lag sales done\n",
      "rolling mean sales for feature done: id\n",
      "rolling mean sales for feature done: item_id\n",
      "date features done\n",
      "out dataframe: (1890380, 35)\n"
     ]
    },
    {
     "data": {
      "application/vnd.jupyter.widget-view+json": {
       "model_id": "24a4c28408f24c2f8e7d29fadeb6ecca",
       "version_major": 2,
       "version_minor": 0
      },
      "text/plain": [
       "HBox(children=(FloatProgress(value=0.0, max=12.0), HTML(value='')))"
      ]
     },
     "metadata": {},
     "output_type": "display_data"
    },
    {
     "name": "stdout",
     "output_type": "stream",
     "text": [
      "\n",
      "----------------------------------------------------------------------\n",
      "forecast day forward: 9 | forecast date: 2016-05-03 00:00:00\n",
      "in dataframe: (1890380, 22)\n",
      "lag sales done\n",
      "rolling mean sales for feature done: id\n",
      "rolling mean sales for feature done: item_id\n",
      "date features done\n",
      "out dataframe: (1890380, 35)\n"
     ]
    },
    {
     "data": {
      "application/vnd.jupyter.widget-view+json": {
       "model_id": "aa5f4362f5f647efab47d68e308b4e4e",
       "version_major": 2,
       "version_minor": 0
      },
      "text/plain": [
       "HBox(children=(FloatProgress(value=0.0, max=12.0), HTML(value='')))"
      ]
     },
     "metadata": {},
     "output_type": "display_data"
    },
    {
     "name": "stdout",
     "output_type": "stream",
     "text": [
      "\n",
      "----------------------------------------------------------------------\n",
      "forecast day forward: 10 | forecast date: 2016-05-04 00:00:00\n",
      "in dataframe: (1890380, 22)\n",
      "lag sales done\n",
      "rolling mean sales for feature done: id\n",
      "rolling mean sales for feature done: item_id\n",
      "date features done\n",
      "out dataframe: (1890380, 35)\n"
     ]
    },
    {
     "data": {
      "application/vnd.jupyter.widget-view+json": {
       "model_id": "ad27239c37094795a22cc44eadf24e46",
       "version_major": 2,
       "version_minor": 0
      },
      "text/plain": [
       "HBox(children=(FloatProgress(value=0.0, max=12.0), HTML(value='')))"
      ]
     },
     "metadata": {},
     "output_type": "display_data"
    },
    {
     "name": "stdout",
     "output_type": "stream",
     "text": [
      "\n",
      "----------------------------------------------------------------------\n",
      "forecast day forward: 11 | forecast date: 2016-05-05 00:00:00\n",
      "in dataframe: (1890380, 22)\n",
      "lag sales done\n",
      "rolling mean sales for feature done: id\n",
      "rolling mean sales for feature done: item_id\n",
      "date features done\n",
      "out dataframe: (1890380, 35)\n"
     ]
    },
    {
     "data": {
      "application/vnd.jupyter.widget-view+json": {
       "model_id": "4f214d7caa134a2bb2b59c138e2cfd2d",
       "version_major": 2,
       "version_minor": 0
      },
      "text/plain": [
       "HBox(children=(FloatProgress(value=0.0, max=12.0), HTML(value='')))"
      ]
     },
     "metadata": {},
     "output_type": "display_data"
    },
    {
     "name": "stdout",
     "output_type": "stream",
     "text": [
      "\n",
      "----------------------------------------------------------------------\n",
      "forecast day forward: 12 | forecast date: 2016-05-06 00:00:00\n",
      "in dataframe: (1890380, 22)\n",
      "lag sales done\n",
      "rolling mean sales for feature done: id\n",
      "rolling mean sales for feature done: item_id\n",
      "date features done\n",
      "out dataframe: (1890380, 35)\n"
     ]
    },
    {
     "data": {
      "application/vnd.jupyter.widget-view+json": {
       "model_id": "cd2fae2ea217473ab81585bff457b95f",
       "version_major": 2,
       "version_minor": 0
      },
      "text/plain": [
       "HBox(children=(FloatProgress(value=0.0, max=12.0), HTML(value='')))"
      ]
     },
     "metadata": {},
     "output_type": "display_data"
    },
    {
     "name": "stdout",
     "output_type": "stream",
     "text": [
      "\n",
      "----------------------------------------------------------------------\n",
      "forecast day forward: 13 | forecast date: 2016-05-07 00:00:00\n",
      "in dataframe: (1890380, 22)\n",
      "lag sales done\n",
      "rolling mean sales for feature done: id\n",
      "rolling mean sales for feature done: item_id\n",
      "date features done\n",
      "out dataframe: (1890380, 35)\n"
     ]
    },
    {
     "data": {
      "application/vnd.jupyter.widget-view+json": {
       "model_id": "eed53582b67841beb6b14e2356a25578",
       "version_major": 2,
       "version_minor": 0
      },
      "text/plain": [
       "HBox(children=(FloatProgress(value=0.0, max=12.0), HTML(value='')))"
      ]
     },
     "metadata": {},
     "output_type": "display_data"
    },
    {
     "name": "stdout",
     "output_type": "stream",
     "text": [
      "\n",
      "----------------------------------------------------------------------\n",
      "forecast day forward: 14 | forecast date: 2016-05-08 00:00:00\n",
      "in dataframe: (1890380, 22)\n",
      "lag sales done\n",
      "rolling mean sales for feature done: id\n",
      "rolling mean sales for feature done: item_id\n",
      "date features done\n",
      "out dataframe: (1890380, 35)\n"
     ]
    },
    {
     "data": {
      "application/vnd.jupyter.widget-view+json": {
       "model_id": "262bd70c81684e83980be4158980249e",
       "version_major": 2,
       "version_minor": 0
      },
      "text/plain": [
       "HBox(children=(FloatProgress(value=0.0, max=12.0), HTML(value='')))"
      ]
     },
     "metadata": {},
     "output_type": "display_data"
    },
    {
     "name": "stdout",
     "output_type": "stream",
     "text": [
      "\n",
      "----------------------------------------------------------------------\n",
      "forecast day forward: 15 | forecast date: 2016-05-09 00:00:00\n",
      "in dataframe: (1890380, 22)\n",
      "lag sales done\n",
      "rolling mean sales for feature done: id\n",
      "rolling mean sales for feature done: item_id\n",
      "date features done\n",
      "out dataframe: (1890380, 35)\n"
     ]
    },
    {
     "data": {
      "application/vnd.jupyter.widget-view+json": {
       "model_id": "631677c363bb4d2a96fabde59a96c2ec",
       "version_major": 2,
       "version_minor": 0
      },
      "text/plain": [
       "HBox(children=(FloatProgress(value=0.0, max=12.0), HTML(value='')))"
      ]
     },
     "metadata": {},
     "output_type": "display_data"
    },
    {
     "name": "stdout",
     "output_type": "stream",
     "text": [
      "\n",
      "----------------------------------------------------------------------\n",
      "forecast day forward: 16 | forecast date: 2016-05-10 00:00:00\n",
      "in dataframe: (1890380, 22)\n",
      "lag sales done\n",
      "rolling mean sales for feature done: id\n",
      "rolling mean sales for feature done: item_id\n",
      "date features done\n",
      "out dataframe: (1890380, 35)\n"
     ]
    },
    {
     "data": {
      "application/vnd.jupyter.widget-view+json": {
       "model_id": "372761195bc94ae899730385f5e37b22",
       "version_major": 2,
       "version_minor": 0
      },
      "text/plain": [
       "HBox(children=(FloatProgress(value=0.0, max=12.0), HTML(value='')))"
      ]
     },
     "metadata": {},
     "output_type": "display_data"
    },
    {
     "name": "stdout",
     "output_type": "stream",
     "text": [
      "\n",
      "----------------------------------------------------------------------\n",
      "forecast day forward: 17 | forecast date: 2016-05-11 00:00:00\n",
      "in dataframe: (1890380, 22)\n",
      "lag sales done\n",
      "rolling mean sales for feature done: id\n",
      "rolling mean sales for feature done: item_id\n",
      "date features done\n",
      "out dataframe: (1890380, 35)\n"
     ]
    },
    {
     "data": {
      "application/vnd.jupyter.widget-view+json": {
       "model_id": "eacdbbedd606471da6c4ee03e4e46884",
       "version_major": 2,
       "version_minor": 0
      },
      "text/plain": [
       "HBox(children=(FloatProgress(value=0.0, max=12.0), HTML(value='')))"
      ]
     },
     "metadata": {},
     "output_type": "display_data"
    },
    {
     "name": "stdout",
     "output_type": "stream",
     "text": [
      "\n",
      "----------------------------------------------------------------------\n",
      "forecast day forward: 18 | forecast date: 2016-05-12 00:00:00\n",
      "in dataframe: (1890380, 22)\n",
      "lag sales done\n",
      "rolling mean sales for feature done: id\n",
      "rolling mean sales for feature done: item_id\n",
      "date features done\n",
      "out dataframe: (1890380, 35)\n"
     ]
    },
    {
     "data": {
      "application/vnd.jupyter.widget-view+json": {
       "model_id": "4418479097ab4aacbdc7a85377c77bda",
       "version_major": 2,
       "version_minor": 0
      },
      "text/plain": [
       "HBox(children=(FloatProgress(value=0.0, max=12.0), HTML(value='')))"
      ]
     },
     "metadata": {},
     "output_type": "display_data"
    },
    {
     "name": "stdout",
     "output_type": "stream",
     "text": [
      "\n",
      "----------------------------------------------------------------------\n",
      "forecast day forward: 19 | forecast date: 2016-05-13 00:00:00\n",
      "in dataframe: (1890380, 22)\n",
      "lag sales done\n",
      "rolling mean sales for feature done: id\n",
      "rolling mean sales for feature done: item_id\n",
      "date features done\n",
      "out dataframe: (1890380, 35)\n"
     ]
    },
    {
     "data": {
      "application/vnd.jupyter.widget-view+json": {
       "model_id": "c6fa8f0ad58449f5951cd0c70a7b8584",
       "version_major": 2,
       "version_minor": 0
      },
      "text/plain": [
       "HBox(children=(FloatProgress(value=0.0, max=12.0), HTML(value='')))"
      ]
     },
     "metadata": {},
     "output_type": "display_data"
    },
    {
     "name": "stdout",
     "output_type": "stream",
     "text": [
      "\n",
      "----------------------------------------------------------------------\n",
      "forecast day forward: 20 | forecast date: 2016-05-14 00:00:00\n",
      "in dataframe: (1890380, 22)\n",
      "lag sales done\n",
      "rolling mean sales for feature done: id\n",
      "rolling mean sales for feature done: item_id\n",
      "date features done\n",
      "out dataframe: (1890380, 35)\n"
     ]
    },
    {
     "data": {
      "application/vnd.jupyter.widget-view+json": {
       "model_id": "a6b1de77aa8640e1a5a339d768e81973",
       "version_major": 2,
       "version_minor": 0
      },
      "text/plain": [
       "HBox(children=(FloatProgress(value=0.0, max=12.0), HTML(value='')))"
      ]
     },
     "metadata": {},
     "output_type": "display_data"
    },
    {
     "name": "stdout",
     "output_type": "stream",
     "text": [
      "\n",
      "----------------------------------------------------------------------\n",
      "forecast day forward: 21 | forecast date: 2016-05-15 00:00:00\n",
      "in dataframe: (1890380, 22)\n",
      "lag sales done\n",
      "rolling mean sales for feature done: id\n",
      "rolling mean sales for feature done: item_id\n",
      "date features done\n",
      "out dataframe: (1890380, 35)\n"
     ]
    },
    {
     "data": {
      "application/vnd.jupyter.widget-view+json": {
       "model_id": "0d8d63461311479a8e31cfb77bb18690",
       "version_major": 2,
       "version_minor": 0
      },
      "text/plain": [
       "HBox(children=(FloatProgress(value=0.0, max=12.0), HTML(value='')))"
      ]
     },
     "metadata": {},
     "output_type": "display_data"
    },
    {
     "name": "stdout",
     "output_type": "stream",
     "text": [
      "\n",
      "----------------------------------------------------------------------\n",
      "forecast day forward: 22 | forecast date: 2016-05-16 00:00:00\n",
      "in dataframe: (1890380, 22)\n",
      "lag sales done\n",
      "rolling mean sales for feature done: id\n",
      "rolling mean sales for feature done: item_id\n",
      "date features done\n",
      "out dataframe: (1890380, 35)\n"
     ]
    },
    {
     "data": {
      "application/vnd.jupyter.widget-view+json": {
       "model_id": "a3fa47b0f6ed47acba41a553777875cc",
       "version_major": 2,
       "version_minor": 0
      },
      "text/plain": [
       "HBox(children=(FloatProgress(value=0.0, max=12.0), HTML(value='')))"
      ]
     },
     "metadata": {},
     "output_type": "display_data"
    },
    {
     "name": "stdout",
     "output_type": "stream",
     "text": [
      "\n",
      "----------------------------------------------------------------------\n",
      "forecast day forward: 23 | forecast date: 2016-05-17 00:00:00\n",
      "in dataframe: (1890380, 22)\n",
      "lag sales done\n",
      "rolling mean sales for feature done: id\n",
      "rolling mean sales for feature done: item_id\n",
      "date features done\n",
      "out dataframe: (1890380, 35)\n"
     ]
    },
    {
     "data": {
      "application/vnd.jupyter.widget-view+json": {
       "model_id": "4161d86cacec4dbda02357e7b8afc34c",
       "version_major": 2,
       "version_minor": 0
      },
      "text/plain": [
       "HBox(children=(FloatProgress(value=0.0, max=12.0), HTML(value='')))"
      ]
     },
     "metadata": {},
     "output_type": "display_data"
    },
    {
     "name": "stdout",
     "output_type": "stream",
     "text": [
      "\n",
      "----------------------------------------------------------------------\n",
      "forecast day forward: 24 | forecast date: 2016-05-18 00:00:00\n",
      "in dataframe: (1890380, 22)\n",
      "lag sales done\n",
      "rolling mean sales for feature done: id\n",
      "rolling mean sales for feature done: item_id\n",
      "date features done\n",
      "out dataframe: (1890380, 35)\n"
     ]
    },
    {
     "data": {
      "application/vnd.jupyter.widget-view+json": {
       "model_id": "f4d7017b454c46b5b16b74290fb28bf4",
       "version_major": 2,
       "version_minor": 0
      },
      "text/plain": [
       "HBox(children=(FloatProgress(value=0.0, max=12.0), HTML(value='')))"
      ]
     },
     "metadata": {},
     "output_type": "display_data"
    },
    {
     "name": "stdout",
     "output_type": "stream",
     "text": [
      "\n",
      "----------------------------------------------------------------------\n",
      "forecast day forward: 25 | forecast date: 2016-05-19 00:00:00\n",
      "in dataframe: (1890380, 22)\n",
      "lag sales done\n",
      "rolling mean sales for feature done: id\n",
      "rolling mean sales for feature done: item_id\n",
      "date features done\n",
      "out dataframe: (1890380, 35)\n"
     ]
    },
    {
     "data": {
      "application/vnd.jupyter.widget-view+json": {
       "model_id": "c1f085e922cf495ca956343c02a7fce1",
       "version_major": 2,
       "version_minor": 0
      },
      "text/plain": [
       "HBox(children=(FloatProgress(value=0.0, max=12.0), HTML(value='')))"
      ]
     },
     "metadata": {},
     "output_type": "display_data"
    },
    {
     "name": "stdout",
     "output_type": "stream",
     "text": [
      "\n",
      "----------------------------------------------------------------------\n",
      "forecast day forward: 26 | forecast date: 2016-05-20 00:00:00\n",
      "in dataframe: (1890380, 22)\n",
      "lag sales done\n",
      "rolling mean sales for feature done: id\n",
      "rolling mean sales for feature done: item_id\n",
      "date features done\n",
      "out dataframe: (1890380, 35)\n"
     ]
    },
    {
     "data": {
      "application/vnd.jupyter.widget-view+json": {
       "model_id": "8b8b19c3fcef4fc4b92f568a0d27d673",
       "version_major": 2,
       "version_minor": 0
      },
      "text/plain": [
       "HBox(children=(FloatProgress(value=0.0, max=12.0), HTML(value='')))"
      ]
     },
     "metadata": {},
     "output_type": "display_data"
    },
    {
     "name": "stdout",
     "output_type": "stream",
     "text": [
      "\n",
      "----------------------------------------------------------------------\n",
      "forecast day forward: 27 | forecast date: 2016-05-21 00:00:00\n",
      "in dataframe: (1890380, 22)\n",
      "lag sales done\n",
      "rolling mean sales for feature done: id\n",
      "rolling mean sales for feature done: item_id\n",
      "date features done\n",
      "out dataframe: (1890380, 35)\n"
     ]
    },
    {
     "data": {
      "application/vnd.jupyter.widget-view+json": {
       "model_id": "dbe5249b3907470687ce5871a5192a83",
       "version_major": 2,
       "version_minor": 0
      },
      "text/plain": [
       "HBox(children=(FloatProgress(value=0.0, max=12.0), HTML(value='')))"
      ]
     },
     "metadata": {},
     "output_type": "display_data"
    },
    {
     "name": "stdout",
     "output_type": "stream",
     "text": [
      "\n",
      "----------------------------------------------------------------------\n",
      "forecast day forward: 28 | forecast date: 2016-05-22 00:00:00\n",
      "in dataframe: (1890380, 22)\n",
      "lag sales done\n",
      "rolling mean sales for feature done: id\n",
      "rolling mean sales for feature done: item_id\n",
      "date features done\n",
      "out dataframe: (1890380, 35)\n"
     ]
    },
    {
     "data": {
      "application/vnd.jupyter.widget-view+json": {
       "model_id": "47361ec2a0314b83a346a7b02fe94e87",
       "version_major": 2,
       "version_minor": 0
      },
      "text/plain": [
       "HBox(children=(FloatProgress(value=0.0, max=12.0), HTML(value='')))"
      ]
     },
     "metadata": {},
     "output_type": "display_data"
    },
    {
     "name": "stdout",
     "output_type": "stream",
     "text": [
      "\n",
      "CPU times: user 26min 5s, sys: 17.7 s, total: 26min 23s\n",
      "Wall time: 22min 30s\n"
     ]
    }
   ],
   "source": [
    "%%time\n",
    "growth_rate = 1 #1.025\n",
    "spred = get_df(is_train=False, backward_lags=BACKWARD_LAGS)\n",
    "for pred_day in tqdm(range(1, 29)):\n",
    "    pred_date = datetime.strptime(END_DATE, '%Y-%m-%d') + timedelta(days=pred_day)\n",
    "    pred_date_back = pred_date - timedelta(days=BACKWARD_LAGS + 1)\n",
    "    print('-' * 70)\n",
    "    print('forecast day forward:', pred_day, '| forecast date:', pred_date) \n",
    "    spred_data = spred[(spred['date'] >= pred_date_back) & (spred['date'] <= pred_date)].copy()\n",
    "    spred_data = make_features(spred_data)\n",
    "    spred_data = spred_data.loc[spred['date'] == pred_date, train_cols]\n",
    "    spred_data = lgbm_proc(spred_data, cat_cols)\n",
    "    spred.loc[spred['date'] == pred_date, 'sales'] = growth_rate * model.predict(spred_data)"
   ]
  },
  {
   "cell_type": "code",
   "execution_count": 38,
   "metadata": {},
   "outputs": [
    {
     "name": "stdout",
     "output_type": "stream",
     "text": [
      "id to draw: FOODS_3_202_CA_3_validation\n",
      "from 2012-01-01 00:00:00 to 2016-05-22 00:00:00\n"
     ]
    },
    {
     "data": {
      "image/png": "[encoded data removed]",
      "text/plain": [
       "<Figure size 1296x288 with 1 Axes>"
      ]
     },
     "metadata": {
      "needs_background": "light"
     },
     "output_type": "display_data"
    }
   ],
   "source": [
    "id_name = np.random.choice(strain['id'].unique())\n",
    "print('id to draw:', id_name)\n",
    "id_sales = strain.loc[(strain['id'] == id_name) & (strain['date'] >= VAL_DATE)].set_index('date')\n",
    "id_sales_pred = spred.loc[(spred['id'] == id_name) & (spred['date'] >= END_DATE)].set_index('date')\n",
    "print('from', strain['date'].min(), 'to', spred['date'].max()) \n",
    "plt.figure(figsize=(18, 4))\n",
    "id_sales['sales'].plot(label='sales')\n",
    "id_sales_pred['sales'].plot(label='sales prediction')\n",
    "plt.title(id_name)\n",
    "plt.legend()\n",
    "plt.show()"
   ]
  },
  {
   "cell_type": "code",
   "execution_count": 39,
   "metadata": {},
   "outputs": [
    {
     "name": "stdout",
     "output_type": "stream",
     "text": [
      "last d num: 1913\n"
     ]
    },
    {
     "data": {
      "text/html": [
       "<div>\n",
       "<style scoped>\n",
       "    .dataframe tbody tr th:only-of-type {\n",
       "        vertical-align: middle;\n",
       "    }\n",
       "\n",
       "    .dataframe tbody tr th {\n",
       "        vertical-align: top;\n",
       "    }\n",
       "\n",
       "    .dataframe thead th {\n",
       "        text-align: right;\n",
       "    }\n",
       "</style>\n",
       "<table border=\"1\" class=\"dataframe\">\n",
       "  <thead>\n",
       "    <tr style=\"text-align: right;\">\n",
       "      <th></th>\n",
       "      <th>id</th>\n",
       "      <th>d</th>\n",
       "      <th>sales</th>\n",
       "    </tr>\n",
       "  </thead>\n",
       "  <tbody>\n",
       "    <tr>\n",
       "      <th>45966979</th>\n",
       "      <td>HOBBIES_1_001_CA_1_validation</td>\n",
       "      <td>F1</td>\n",
       "      <td>0.798283</td>\n",
       "    </tr>\n",
       "    <tr>\n",
       "      <th>45966980</th>\n",
       "      <td>HOBBIES_1_001_CA_1_validation</td>\n",
       "      <td>F2</td>\n",
       "      <td>0.758039</td>\n",
       "    </tr>\n",
       "    <tr>\n",
       "      <th>45966981</th>\n",
       "      <td>HOBBIES_1_001_CA_1_validation</td>\n",
       "      <td>F3</td>\n",
       "      <td>0.794701</td>\n",
       "    </tr>\n",
       "    <tr>\n",
       "      <th>45966982</th>\n",
       "      <td>HOBBIES_1_001_CA_1_validation</td>\n",
       "      <td>F4</td>\n",
       "      <td>0.845800</td>\n",
       "    </tr>\n",
       "    <tr>\n",
       "      <th>45966983</th>\n",
       "      <td>HOBBIES_1_001_CA_1_validation</td>\n",
       "      <td>F5</td>\n",
       "      <td>0.902771</td>\n",
       "    </tr>\n",
       "  </tbody>\n",
       "</table>\n",
       "</div>"
      ],
      "text/plain": [
       "                                     id   d     sales\n",
       "45966979  HOBBIES_1_001_CA_1_validation  F1  0.798283\n",
       "45966980  HOBBIES_1_001_CA_1_validation  F2  0.758039\n",
       "45966981  HOBBIES_1_001_CA_1_validation  F3  0.794701\n",
       "45966982  HOBBIES_1_001_CA_1_validation  F4  0.845800\n",
       "45966983  HOBBIES_1_001_CA_1_validation  F5  0.902771"
      ]
     },
     "execution_count": 39,
     "metadata": {},
     "output_type": "execute_result"
    }
   ],
   "source": [
    "spred_subm = spred.loc[spred['date'] > END_DATE, ['id', 'd', 'sales']].copy()\n",
    "last_d = int(spred.loc[spred['date'] == END_DATE, 'd'].unique()[0].replace('d_', ''))\n",
    "print('last d num:', last_d)\n",
    "spred_subm['d'] = spred_subm['d'].apply(lambda x: 'F{}'.format(int(x.replace('d_', '')) - last_d))\n",
    "spred_subm['sales'].where(spred_subm['sales'] < 0, 0)\n",
    "spred_subm.head()"
   ]
  },
  {
   "cell_type": "code",
   "execution_count": 40,
   "metadata": {},
   "outputs": [
    {
     "data": {
      "text/html": [
       "<div>\n",
       "<style scoped>\n",
       "    .dataframe tbody tr th:only-of-type {\n",
       "        vertical-align: middle;\n",
       "    }\n",
       "\n",
       "    .dataframe tbody tr th {\n",
       "        vertical-align: top;\n",
       "    }\n",
       "\n",
       "    .dataframe thead th {\n",
       "        text-align: right;\n",
       "    }\n",
       "</style>\n",
       "<table border=\"1\" class=\"dataframe\">\n",
       "  <thead>\n",
       "    <tr style=\"text-align: right;\">\n",
       "      <th>d</th>\n",
       "      <th>id</th>\n",
       "      <th>F1</th>\n",
       "      <th>F2</th>\n",
       "      <th>F3</th>\n",
       "      <th>F4</th>\n",
       "      <th>F5</th>\n",
       "      <th>F6</th>\n",
       "      <th>F7</th>\n",
       "      <th>F8</th>\n",
       "      <th>F9</th>\n",
       "      <th>F10</th>\n",
       "      <th>F11</th>\n",
       "      <th>F12</th>\n",
       "      <th>F13</th>\n",
       "      <th>F14</th>\n",
       "      <th>F15</th>\n",
       "      <th>F16</th>\n",
       "      <th>F17</th>\n",
       "      <th>F18</th>\n",
       "      <th>F19</th>\n",
       "      <th>F20</th>\n",
       "      <th>F21</th>\n",
       "      <th>F22</th>\n",
       "      <th>F23</th>\n",
       "      <th>F24</th>\n",
       "      <th>F25</th>\n",
       "      <th>F26</th>\n",
       "      <th>F27</th>\n",
       "      <th>F28</th>\n",
       "    </tr>\n",
       "  </thead>\n",
       "  <tbody>\n",
       "    <tr>\n",
       "      <th>0</th>\n",
       "      <td>FOODS_1_001_CA_1_validation</td>\n",
       "      <td>0.888246</td>\n",
       "      <td>0.815549</td>\n",
       "      <td>0.812976</td>\n",
       "      <td>0.804284</td>\n",
       "      <td>1.058588</td>\n",
       "      <td>1.133687</td>\n",
       "      <td>1.227694</td>\n",
       "      <td>0.943256</td>\n",
       "      <td>0.920611</td>\n",
       "      <td>1.009032</td>\n",
       "      <td>0.966043</td>\n",
       "      <td>1.068733</td>\n",
       "      <td>1.298572</td>\n",
       "      <td>1.364812</td>\n",
       "      <td>0.974207</td>\n",
       "      <td>0.925068</td>\n",
       "      <td>0.930117</td>\n",
       "      <td>0.939309</td>\n",
       "      <td>1.058946</td>\n",
       "      <td>1.294968</td>\n",
       "      <td>1.216250</td>\n",
       "      <td>0.934308</td>\n",
       "      <td>0.861053</td>\n",
       "      <td>0.848216</td>\n",
       "      <td>0.846865</td>\n",
       "      <td>1.010737</td>\n",
       "      <td>1.214165</td>\n",
       "      <td>1.202050</td>\n",
       "    </tr>\n",
       "    <tr>\n",
       "      <th>1</th>\n",
       "      <td>FOODS_1_001_CA_2_validation</td>\n",
       "      <td>1.060838</td>\n",
       "      <td>1.022443</td>\n",
       "      <td>1.000063</td>\n",
       "      <td>1.458514</td>\n",
       "      <td>1.371402</td>\n",
       "      <td>1.269136</td>\n",
       "      <td>1.523001</td>\n",
       "      <td>0.920003</td>\n",
       "      <td>0.953056</td>\n",
       "      <td>0.960003</td>\n",
       "      <td>0.948714</td>\n",
       "      <td>1.141943</td>\n",
       "      <td>1.577170</td>\n",
       "      <td>1.567220</td>\n",
       "      <td>1.081234</td>\n",
       "      <td>0.979610</td>\n",
       "      <td>1.004847</td>\n",
       "      <td>1.020977</td>\n",
       "      <td>1.252627</td>\n",
       "      <td>1.727467</td>\n",
       "      <td>1.567805</td>\n",
       "      <td>1.080340</td>\n",
       "      <td>1.030751</td>\n",
       "      <td>1.028724</td>\n",
       "      <td>1.087896</td>\n",
       "      <td>1.290763</td>\n",
       "      <td>1.661263</td>\n",
       "      <td>1.488288</td>\n",
       "    </tr>\n",
       "    <tr>\n",
       "      <th>2</th>\n",
       "      <td>FOODS_1_001_CA_3_validation</td>\n",
       "      <td>1.042835</td>\n",
       "      <td>0.991510</td>\n",
       "      <td>0.821232</td>\n",
       "      <td>0.864234</td>\n",
       "      <td>0.878729</td>\n",
       "      <td>1.016266</td>\n",
       "      <td>1.061803</td>\n",
       "      <td>0.895309</td>\n",
       "      <td>0.955567</td>\n",
       "      <td>0.813661</td>\n",
       "      <td>0.839507</td>\n",
       "      <td>0.922958</td>\n",
       "      <td>1.215259</td>\n",
       "      <td>1.225429</td>\n",
       "      <td>0.894631</td>\n",
       "      <td>0.924688</td>\n",
       "      <td>0.824985</td>\n",
       "      <td>0.843515</td>\n",
       "      <td>0.913865</td>\n",
       "      <td>1.179531</td>\n",
       "      <td>1.089585</td>\n",
       "      <td>0.838760</td>\n",
       "      <td>0.830299</td>\n",
       "      <td>0.818072</td>\n",
       "      <td>0.815054</td>\n",
       "      <td>0.907078</td>\n",
       "      <td>1.021553</td>\n",
       "      <td>0.968549</td>\n",
       "    </tr>\n",
       "    <tr>\n",
       "      <th>3</th>\n",
       "      <td>FOODS_1_001_CA_4_validation</td>\n",
       "      <td>0.490609</td>\n",
       "      <td>0.388494</td>\n",
       "      <td>0.363113</td>\n",
       "      <td>0.367770</td>\n",
       "      <td>0.436916</td>\n",
       "      <td>0.409784</td>\n",
       "      <td>0.468218</td>\n",
       "      <td>0.386356</td>\n",
       "      <td>0.406447</td>\n",
       "      <td>0.417475</td>\n",
       "      <td>0.406662</td>\n",
       "      <td>0.403031</td>\n",
       "      <td>0.431184</td>\n",
       "      <td>0.433049</td>\n",
       "      <td>0.349942</td>\n",
       "      <td>0.380119</td>\n",
       "      <td>0.414583</td>\n",
       "      <td>0.425755</td>\n",
       "      <td>0.466658</td>\n",
       "      <td>0.443656</td>\n",
       "      <td>0.464235</td>\n",
       "      <td>0.380684</td>\n",
       "      <td>0.401769</td>\n",
       "      <td>0.400974</td>\n",
       "      <td>0.410268</td>\n",
       "      <td>0.483824</td>\n",
       "      <td>0.458329</td>\n",
       "      <td>0.499802</td>\n",
       "    </tr>\n",
       "    <tr>\n",
       "      <th>4</th>\n",
       "      <td>FOODS_1_001_TX_1_validation</td>\n",
       "      <td>0.228814</td>\n",
       "      <td>0.224549</td>\n",
       "      <td>0.222582</td>\n",
       "      <td>0.237926</td>\n",
       "      <td>0.255955</td>\n",
       "      <td>0.246161</td>\n",
       "      <td>0.322305</td>\n",
       "      <td>0.370290</td>\n",
       "      <td>0.303002</td>\n",
       "      <td>0.321958</td>\n",
       "      <td>0.319526</td>\n",
       "      <td>0.329111</td>\n",
       "      <td>0.377479</td>\n",
       "      <td>0.316839</td>\n",
       "      <td>0.304452</td>\n",
       "      <td>0.335179</td>\n",
       "      <td>0.328817</td>\n",
       "      <td>0.316607</td>\n",
       "      <td>0.335633</td>\n",
       "      <td>0.320075</td>\n",
       "      <td>0.306174</td>\n",
       "      <td>0.301399</td>\n",
       "      <td>0.286213</td>\n",
       "      <td>0.309774</td>\n",
       "      <td>0.301223</td>\n",
       "      <td>0.311201</td>\n",
       "      <td>0.328026</td>\n",
       "      <td>0.316923</td>\n",
       "    </tr>\n",
       "  </tbody>\n",
       "</table>\n",
       "</div>"
      ],
      "text/plain": [
       "d                           id        F1        F2        F3        F4  \\\n",
       "0  FOODS_1_001_CA_1_validation  0.888246  0.815549  0.812976  0.804284   \n",
       "1  FOODS_1_001_CA_2_validation  1.060838  1.022443  1.000063  1.458514   \n",
       "2  FOODS_1_001_CA_3_validation  1.042835  0.991510  0.821232  0.864234   \n",
       "3  FOODS_1_001_CA_4_validation  0.490609  0.388494  0.363113  0.367770   \n",
       "4  FOODS_1_001_TX_1_validation  0.228814  0.224549  0.222582  0.237926   \n",
       "\n",
       "d        F5        F6        F7        F8        F9       F10       F11  \\\n",
       "0  1.058588  1.133687  1.227694  0.943256  0.920611  1.009032  0.966043   \n",
       "1  1.371402  1.269136  1.523001  0.920003  0.953056  0.960003  0.948714   \n",
       "2  0.878729  1.016266  1.061803  0.895309  0.955567  0.813661  0.839507   \n",
       "3  0.436916  0.409784  0.468218  0.386356  0.406447  0.417475  0.406662   \n",
       "4  0.255955  0.246161  0.322305  0.370290  0.303002  0.321958  0.319526   \n",
       "\n",
       "d       F12       F13       F14       F15       F16       F17       F18  \\\n",
       "0  1.068733  1.298572  1.364812  0.974207  0.925068  0.930117  0.939309   \n",
       "1  1.141943  1.577170  1.567220  1.081234  0.979610  1.004847  1.020977   \n",
       "2  0.922958  1.215259  1.225429  0.894631  0.924688  0.824985  0.843515   \n",
       "3  0.403031  0.431184  0.433049  0.349942  0.380119  0.414583  0.425755   \n",
       "4  0.329111  0.377479  0.316839  0.304452  0.335179  0.328817  0.316607   \n",
       "\n",
       "d       F19       F20       F21       F22       F23       F24       F25  \\\n",
       "0  1.058946  1.294968  1.216250  0.934308  0.861053  0.848216  0.846865   \n",
       "1  1.252627  1.727467  1.567805  1.080340  1.030751  1.028724  1.087896   \n",
       "2  0.913865  1.179531  1.089585  0.838760  0.830299  0.818072  0.815054   \n",
       "3  0.466658  0.443656  0.464235  0.380684  0.401769  0.400974  0.410268   \n",
       "4  0.335633  0.320075  0.306174  0.301399  0.286213  0.309774  0.301223   \n",
       "\n",
       "d       F26       F27       F28  \n",
       "0  1.010737  1.214165  1.202050  \n",
       "1  1.290763  1.661263  1.488288  \n",
       "2  0.907078  1.021553  0.968549  \n",
       "3  0.483824  0.458329  0.499802  \n",
       "4  0.311201  0.328026  0.316923  "
      ]
     },
     "execution_count": 40,
     "metadata": {},
     "output_type": "execute_result"
    }
   ],
   "source": [
    "f_cols = ['F{}'.format(x) for x in range(1, 29)]\n",
    "spred_subm = spred_subm.set_index(['id', 'd']).unstack()['sales'][f_cols].reset_index()\n",
    "spred_subm.fillna(0, inplace=True)\n",
    "spred_subm.where(spred_subm[f_cols] < 0, 0)\n",
    "spred_subm.sort_values('id', inplace=True)\n",
    "spred_subm.reset_index(drop=True, inplace=True)\n",
    "spred_subm.head()"
   ]
  },
  {
   "cell_type": "code",
   "execution_count": 41,
   "metadata": {},
   "outputs": [
    {
     "name": "stdout",
     "output_type": "stream",
     "text": [
      "submission saved: (60980, 29)\n"
     ]
    }
   ],
   "source": [
    "spred_subm_eval = spred_subm.copy()\n",
    "spred_subm_eval[\"id\"] = spred_subm_eval[\"id\"].str.replace(\"validation\", \"evaluation\")\n",
    "spred_subm = pd.concat([spred_subm, spred_subm_eval], axis=0, sort=False)\n",
    "spred_subm.reset_index(drop=True, inplace=True)\n",
    "spred_subm.to_csv('submission.csv', index=False)\n",
    "print('submission saved:', spred_subm.shape)"
   ]
  },
  {
   "cell_type": "code",
   "execution_count": null,
   "metadata": {},
   "outputs": [],
   "source": []
  },
  {
   "cell_type": "code",
   "execution_count": null,
   "metadata": {},
   "outputs": [],
   "source": []
  },
  {
   "cell_type": "code",
   "execution_count": null,
   "metadata": {},
   "outputs": [],
   "source": []
  },
  {
   "cell_type": "code",
   "execution_count": null,
   "metadata": {},
   "outputs": [],
   "source": []
  },
  {
   "cell_type": "code",
   "execution_count": null,
   "metadata": {},
   "outputs": [],
   "source": []
  },
  {
   "cell_type": "code",
   "execution_count": null,
   "metadata": {},
   "outputs": [],
   "source": []
  },
  {
   "cell_type": "code",
   "execution_count": null,
   "metadata": {},
   "outputs": [],
   "source": []
  },
  {
   "cell_type": "code",
   "execution_count": null,
   "metadata": {},
   "outputs": [],
   "source": []
  }
 ],
 "metadata": {
  "kernelspec": {
   "display_name": "Orange Python 3",
   "language": "python",
   "name": "orange"
  },
  "language_info": {
   "codemirror_mode": {
    "name": "ipython",
    "version": 3
   },
   "file_extension": ".py",
   "mimetype": "text/x-python",
   "name": "python",
   "nbconvert_exporter": "python",
   "pygments_lexer": "ipython3",
   "version": "3.7.6"
  }
 },
 "nbformat": 4,
 "nbformat_minor": 4
}
