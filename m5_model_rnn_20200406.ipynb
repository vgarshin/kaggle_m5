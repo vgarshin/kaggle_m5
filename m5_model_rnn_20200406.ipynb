{
 "cells": [
  {
   "cell_type": "code",
   "execution_count": 1,
   "metadata": {},
   "outputs": [
    {
     "name": "stderr",
     "output_type": "stream",
     "text": [
      "/opt/conda/envs/mrorangeenv/lib/python3.7/site-packages/tensorflow/python/framework/dtypes.py:516: FutureWarning: Passing (type, 1) or '1type' as a synonym of type is deprecated; in a future version of numpy, it will be understood as (type, (1,)) / '(1,)type'.\n",
      "  _np_qint8 = np.dtype([(\"qint8\", np.int8, 1)])\n",
      "/opt/conda/envs/mrorangeenv/lib/python3.7/site-packages/tensorflow/python/framework/dtypes.py:517: FutureWarning: Passing (type, 1) or '1type' as a synonym of type is deprecated; in a future version of numpy, it will be understood as (type, (1,)) / '(1,)type'.\n",
      "  _np_quint8 = np.dtype([(\"quint8\", np.uint8, 1)])\n",
      "/opt/conda/envs/mrorangeenv/lib/python3.7/site-packages/tensorflow/python/framework/dtypes.py:518: FutureWarning: Passing (type, 1) or '1type' as a synonym of type is deprecated; in a future version of numpy, it will be understood as (type, (1,)) / '(1,)type'.\n",
      "  _np_qint16 = np.dtype([(\"qint16\", np.int16, 1)])\n",
      "/opt/conda/envs/mrorangeenv/lib/python3.7/site-packages/tensorflow/python/framework/dtypes.py:519: FutureWarning: Passing (type, 1) or '1type' as a synonym of type is deprecated; in a future version of numpy, it will be understood as (type, (1,)) / '(1,)type'.\n",
      "  _np_quint16 = np.dtype([(\"quint16\", np.uint16, 1)])\n",
      "/opt/conda/envs/mrorangeenv/lib/python3.7/site-packages/tensorflow/python/framework/dtypes.py:520: FutureWarning: Passing (type, 1) or '1type' as a synonym of type is deprecated; in a future version of numpy, it will be understood as (type, (1,)) / '(1,)type'.\n",
      "  _np_qint32 = np.dtype([(\"qint32\", np.int32, 1)])\n",
      "/opt/conda/envs/mrorangeenv/lib/python3.7/site-packages/tensorflow/python/framework/dtypes.py:525: FutureWarning: Passing (type, 1) or '1type' as a synonym of type is deprecated; in a future version of numpy, it will be understood as (type, (1,)) / '(1,)type'.\n",
      "  np_resource = np.dtype([(\"resource\", np.ubyte, 1)])\n"
     ]
    },
    {
     "name": "stdout",
     "output_type": "stream",
     "text": [
      "available GPU devices: 1  | device num: 0\n"
     ]
    },
    {
     "name": "stderr",
     "output_type": "stream",
     "text": [
      "/opt/conda/envs/mrorangeenv/lib/python3.7/site-packages/tensorboard/compat/tensorflow_stub/dtypes.py:541: FutureWarning: Passing (type, 1) or '1type' as a synonym of type is deprecated; in a future version of numpy, it will be understood as (type, (1,)) / '(1,)type'.\n",
      "  _np_qint8 = np.dtype([(\"qint8\", np.int8, 1)])\n",
      "/opt/conda/envs/mrorangeenv/lib/python3.7/site-packages/tensorboard/compat/tensorflow_stub/dtypes.py:542: FutureWarning: Passing (type, 1) or '1type' as a synonym of type is deprecated; in a future version of numpy, it will be understood as (type, (1,)) / '(1,)type'.\n",
      "  _np_quint8 = np.dtype([(\"quint8\", np.uint8, 1)])\n",
      "/opt/conda/envs/mrorangeenv/lib/python3.7/site-packages/tensorboard/compat/tensorflow_stub/dtypes.py:543: FutureWarning: Passing (type, 1) or '1type' as a synonym of type is deprecated; in a future version of numpy, it will be understood as (type, (1,)) / '(1,)type'.\n",
      "  _np_qint16 = np.dtype([(\"qint16\", np.int16, 1)])\n",
      "/opt/conda/envs/mrorangeenv/lib/python3.7/site-packages/tensorboard/compat/tensorflow_stub/dtypes.py:544: FutureWarning: Passing (type, 1) or '1type' as a synonym of type is deprecated; in a future version of numpy, it will be understood as (type, (1,)) / '(1,)type'.\n",
      "  _np_quint16 = np.dtype([(\"quint16\", np.uint16, 1)])\n",
      "/opt/conda/envs/mrorangeenv/lib/python3.7/site-packages/tensorboard/compat/tensorflow_stub/dtypes.py:545: FutureWarning: Passing (type, 1) or '1type' as a synonym of type is deprecated; in a future version of numpy, it will be understood as (type, (1,)) / '(1,)type'.\n",
      "  _np_qint32 = np.dtype([(\"qint32\", np.int32, 1)])\n",
      "/opt/conda/envs/mrorangeenv/lib/python3.7/site-packages/tensorboard/compat/tensorflow_stub/dtypes.py:550: FutureWarning: Passing (type, 1) or '1type' as a synonym of type is deprecated; in a future version of numpy, it will be understood as (type, (1,)) / '(1,)type'.\n",
      "  np_resource = np.dtype([(\"resource\", np.ubyte, 1)])\n"
     ]
    }
   ],
   "source": [
    "#import warnings\n",
    "#warnings.filterwarnings('ignore')\n",
    "import os\n",
    "import pandas as pd\n",
    "import numpy as np\n",
    "import matplotlib.pyplot as plt\n",
    "from tqdm.notebook import tqdm\n",
    "from datetime import datetime, timedelta\n",
    "from sklearn.preprocessing import MinMaxScaler\n",
    "import tensorflow as tf\n",
    "from tensorflow.keras.models import Sequential, load_model\n",
    "from tensorflow.keras.layers import Dense, LSTM, Activation, Dropout\n",
    "from tensorflow.keras.callbacks import EarlyStopping, ModelCheckpoint\n",
    "from tensorflow.keras import optimizers\n",
    "pd.set_option('display.max_columns', None)\n",
    "print('available GPU devices:', len(os.environ['CUDA_VISIBLE_DEVICES']), \n",
    "      '| device num:', os.environ['CUDA_VISIBLE_DEVICES'])"
   ]
  },
  {
   "cell_type": "code",
   "execution_count": 2,
   "metadata": {},
   "outputs": [
    {
     "name": "stdout",
     "output_type": "stream",
     "text": [
      "2016-04-24 00:00:00\n"
     ]
    }
   ],
   "source": [
    "DATA_DIR = './data'\n",
    "MODELS_DIR = './models'\n",
    "MODEL_VER = 'v0'\n",
    "CUT_DATE = '2015-10-24'\n",
    "END_DATE = '2016-04-24'\n",
    "print(datetime.strptime(END_DATE, '%Y-%m-%d'))\n",
    "LOOK_BACK = 2 * 28\n",
    "LOOK_FWD = 28\n",
    "BATCH_SIZE = 1000"
   ]
  },
  {
   "cell_type": "code",
   "execution_count": 3,
   "metadata": {},
   "outputs": [],
   "source": [
    "CALENDAR_DTYPES = {\n",
    "    'date':             'str',\n",
    "    'wm_yr_wk':         'int16', \n",
    "    'weekday':          'object',\n",
    "    'wday':             'int16', \n",
    "    'month':            'int16', \n",
    "    'year':             'int16', \n",
    "    'd':                'object',\n",
    "    'event_name_1':     'object',\n",
    "    'event_type_1':     'object',\n",
    "    'event_name_2':     'object',\n",
    "    'event_type_2':     'object',\n",
    "    'snap_CA':          'int16', \n",
    "    'snap_TX':          'int16', \n",
    "    'snap_WI':          'int16'\n",
    "}\n",
    "PARSE_DATES = ['date']\n",
    "SPRICES_DTYPES = {\n",
    "    'store_id':    'object', \n",
    "    'item_id':     'object', \n",
    "    'wm_yr_wk':    'int16',  \n",
    "    'sell_price':  'float32'\n",
    "}"
   ]
  },
  {
   "cell_type": "code",
   "execution_count": 4,
   "metadata": {},
   "outputs": [],
   "source": [
    "def get_df(is_train=True, backward_lags=None):\n",
    "    strain = pd.read_csv('{}/sales_train_validation.csv'.format(DATA_DIR))\n",
    "    print('read train:', strain.shape)\n",
    "    cat_cols = ['id', 'item_id', 'dept_id','store_id', 'cat_id', 'state_id']\n",
    "    last_day = int(strain.columns[-1].replace('d_', ''))\n",
    "    print('last day is:', last_day)\n",
    "    if not is_train:\n",
    "        for day in range(last_day + 1, last_day + 28 + 28 + 1):\n",
    "            strain['d_{}'.format(day)] = np.nan\n",
    "    strain = pd.melt(\n",
    "        strain,\n",
    "        id_vars = cat_cols,\n",
    "        value_vars = [col for col in strain.columns if col.startswith('d_')],\n",
    "        var_name = 'd',\n",
    "        value_name = 'sales'\n",
    "    )\n",
    "    print('melted train:', strain.shape)\n",
    "    calendar = pd.read_csv('{}/calendar.csv'.format(DATA_DIR), dtype=CALENDAR_DTYPES, parse_dates=PARSE_DATES)\n",
    "    print('read calendar:', calendar.shape)\n",
    "    strain = strain.merge(calendar, on='d', copy=False)\n",
    "    print('calendar merge done')\n",
    "    sprices = pd.read_csv('{}/sell_prices.csv'.format(DATA_DIR), dtype=SPRICES_DTYPES)\n",
    "    print('read prices:', sprices.shape)\n",
    "    strain = strain.merge(\n",
    "        sprices, \n",
    "        on=['store_id', 'item_id', 'wm_yr_wk'], \n",
    "        copy=False\n",
    "    )\n",
    "    print('prices merge done')\n",
    "    print('begin train date:', strain['date'].min())\n",
    "    print('end train date:', strain['date'].max())\n",
    "    if not is_train:\n",
    "        strain = strain.loc[\n",
    "            strain['date'] >= (datetime.strptime(END_DATE, '%Y-%m-%d') - timedelta(days=backward_lags))\n",
    "        ]\n",
    "    else:\n",
    "        strain = strain.loc[strain['date'] >= CUT_DATE]\n",
    "    print('date cut train:', strain.shape)\n",
    "    print('cut train date:', strain['date'].min())\n",
    "    print('end train date:', strain['date'].max())\n",
    "    date_features = {\n",
    "        'week_num': 'weekofyear',\n",
    "        'quarter': 'quarter',\n",
    "        'mday': 'day'\n",
    "    }\n",
    "    for date_feat_name, date_feat_func in date_features.items():\n",
    "        strain[date_feat_name] = getattr(strain['date'].dt, date_feat_func).astype('int16')\n",
    "    print('date features done')\n",
    "    strain['d'] = strain['d'].apply(lambda x: int(x.replace('d_', '')))  \n",
    "    drop_cols = ['date', 'wm_yr_wk', 'weekday']\n",
    "    strain.drop(columns=drop_cols, inplace=True)\n",
    "    strain.sort_values(by=['id', 'd'], inplace=True)\n",
    "    print('trash cols deleted, sorted')\n",
    "    strain['d_'] = strain['d']\n",
    "    print('out dataframe:', strain.shape)\n",
    "    return strain"
   ]
  },
  {
   "cell_type": "code",
   "execution_count": 5,
   "metadata": {},
   "outputs": [],
   "source": [
    "def get_dummies(strain, cols_dummy):\n",
    "    print('got shape for dummies:', strain.shape)\n",
    "    strain_dummies = pd.get_dummies(\n",
    "        strain[cols_dummy],\n",
    "        drop_first=False,\n",
    "        dummy_na=True\n",
    "    )\n",
    "    strain.drop(columns=cols_dummy, inplace=True)\n",
    "    strain = pd.concat([strain, strain_dummies], axis=1)\n",
    "    print('out shape for dummies:', strain.shape)\n",
    "    return strain"
   ]
  },
  {
   "cell_type": "code",
   "execution_count": 6,
   "metadata": {
    "scrolled": true
   },
   "outputs": [
    {
     "name": "stdout",
     "output_type": "stream",
     "text": [
      "read train: (30490, 1919)\n",
      "last day is: 1913\n",
      "melted train: (58327370, 8)\n",
      "read calendar: (1969, 14)\n",
      "calendar merge done\n",
      "read prices: (6841121, 4)\n",
      "prices merge done\n",
      "begin train date: 2011-01-29 00:00:00\n",
      "end train date: 2016-04-24 00:00:00\n",
      "date cut train: (5607717, 22)\n",
      "cut train date: 2015-10-24 00:00:00\n",
      "end train date: 2016-04-24 00:00:00\n",
      "date features done\n",
      "trash cols deleted, sorted\n",
      "out dataframe: (5607717, 23)\n",
      "CPU times: user 40.5 s, sys: 6.54 s, total: 47 s\n",
      "Wall time: 47 s\n"
     ]
    }
   ],
   "source": [
    "%%time\n",
    "strain = get_df(is_train=True, backward_lags=None)"
   ]
  },
  {
   "cell_type": "code",
   "execution_count": 7,
   "metadata": {},
   "outputs": [
    {
     "name": "stdout",
     "output_type": "stream",
     "text": [
      "min-max scaled\n"
     ]
    }
   ],
   "source": [
    "num_cols = ['d', 'sales', 'wday', 'month', 'year', \n",
    "            'snap_CA', 'snap_TX', 'snap_WI', \n",
    "            'sell_price', 'week_num', 'quarter', 'mday']\n",
    "SCALER = MinMaxScaler()\n",
    "strain[num_cols] = SCALER.fit_transform(strain[num_cols])\n",
    "print('min-max scaled')"
   ]
  },
  {
   "cell_type": "code",
   "execution_count": 8,
   "metadata": {},
   "outputs": [
    {
     "name": "stdout",
     "output_type": "stream",
     "text": [
      "val | start: 1829 end: 1913 duration: 84 deep: 84\n",
      "train | start: 1730 end: 1885 duration: 155 deep: 84\n",
      "dummies df done: (30490, 6)\n",
      "dummies: id (30490,)\n",
      "dummies: item_id (3049,)\n",
      "dummies: dept_id (7,)\n",
      "dummies: store_id (10,)\n",
      "dummies: cat_id (3,)\n",
      "dummies: state_id (3,)\n"
     ]
    }
   ],
   "source": [
    "sval = strain[strain.d_ >= (1913 - LOOK_BACK - LOOK_FWD)]\n",
    "print('val | start:', sval.d_.min(), \n",
    "      'end:', sval.d_.max(),\n",
    "      'duration:', sval.d_.max() - sval.d_.min(), \n",
    "      'deep:', LOOK_BACK + LOOK_FWD)\n",
    "strain = strain[strain.d_ <= (1913 - LOOK_FWD)]\n",
    "print('train | start:', strain.d_.min(), \n",
    "      'end:', strain.d_.max(),\n",
    "      'duration:', strain.d_.max() - strain.d_.min(), \n",
    "      'deep:', LOOK_BACK + LOOK_FWD)\n",
    "event_cols = ['event_name_1', 'event_type_1', 'event_name_2', 'event_type_2']\n",
    "sdummies_id = strain.drop(columns=num_cols + event_cols + ['d_'])\n",
    "#strain.drop(columns=['d_'], inplace=True)\n",
    "#sval.drop(columns=['d_'], inplace=True)\n",
    "sdummies_id.drop_duplicates(inplace=True)\n",
    "print('dummies df done:', sdummies_id.shape)\n",
    "for col in sdummies_id.columns:\n",
    "    print('dummies:', col, sdummies_id[col].unique().shape)"
   ]
  },
  {
   "cell_type": "code",
   "execution_count": 9,
   "metadata": {},
   "outputs": [
    {
     "name": "stdout",
     "output_type": "stream",
     "text": [
      "got shape for dummies: (30490, 6)\n",
      "out shape for dummies: (30490, 3078)\n",
      "CPU times: user 228 ms, sys: 12 ms, total: 240 ms\n",
      "Wall time: 237 ms\n"
     ]
    }
   ],
   "source": [
    "%%time\n",
    "cols_dummy = ['item_id', 'dept_id', 'store_id', 'cat_id', 'state_id']\n",
    "cols_features = ['d', 'wday', 'month', 'year', \n",
    "                 'snap_CA', 'snap_TX', 'snap_WI', \n",
    "                 'sell_price', 'week_num', 'quarter', 'mday']\n",
    "sdummies_id = get_dummies(sdummies_id, cols_dummy)"
   ]
  },
  {
   "cell_type": "code",
   "execution_count": 10,
   "metadata": {},
   "outputs": [],
   "source": [
    "def get_sequence_batch(df, dummies, col_id, col_look, look_back, look_fwd, cols_features):\n",
    "    X, y = [], [] \n",
    "    for idx in list(df['id'].unique()):\n",
    "        for i in range(len(df.loc[df[col_id] == idx, col_look]) - look_back - look_fwd):\n",
    "            temp_X = []\n",
    "            temp_X.append(df.loc[df[col_id] == idx, col_look][i : i + look_back])\n",
    "            for col in cols_features:\n",
    "                temp_X.append(df.loc[df[col_id] == idx, col][i + look_fwd : i + look_back + look_fwd])\n",
    "            temp_D = np.array([dummies.loc[dummies[col_id] == idx].values[0][1:]] * look_back).T\n",
    "            temp_X = np.vstack((temp_X, temp_D))\n",
    "            X.append(temp_X)\n",
    "            y.append(df.loc[df[col_id] == idx, col_look][i + look_back : i + look_back + look_fwd])\n",
    "    X = [x.T for x in np.array(X)] # to feed LSTM with shape as [samples, time steps, features]\n",
    "    return np.array(X), np.array(y)"
   ]
  },
  {
   "cell_type": "code",
   "execution_count": 11,
   "metadata": {},
   "outputs": [],
   "source": [
    "def SeqGenerator(df, dummies, col_id, col_look, look_back, look_fwd, cols_features, batch_size):\n",
    "    while True:\n",
    "        for i in range(len(df) // batch_size):\n",
    "            if (i + 1) * batch_size > len(df):\n",
    "                yield get_sequence_batch(\n",
    "                    df[i * batch_size:], \n",
    "                    dummies,\n",
    "                    col_id, \n",
    "                    col_look, \n",
    "                    look_back, \n",
    "                    look_fwd, \n",
    "                    cols_features\n",
    "                )\n",
    "            else:\n",
    "                yield get_sequence_batch(\n",
    "                    df[i * batch_size : (i + 1) * batch_size], \n",
    "                    dummies,\n",
    "                    col_id, \n",
    "                    col_look, \n",
    "                    look_back, \n",
    "                    look_fwd, \n",
    "                    cols_features\n",
    "                )"
   ]
  },
  {
   "cell_type": "code",
   "execution_count": 12,
   "metadata": {},
   "outputs": [
    {
     "name": "stdout",
     "output_type": "stream",
     "text": [
      "(432, 56, 3089) (432, 28)\n",
      "CPU times: user 3.28 s, sys: 356 ms, total: 3.64 s\n",
      "Wall time: 3.63 s\n"
     ]
    }
   ],
   "source": [
    "%%time\n",
    "X, y = next(\n",
    "    SeqGenerator(\n",
    "        df=strain, \n",
    "        dummies=sdummies_id, \n",
    "        col_id='id', \n",
    "        col_look='sales', \n",
    "        look_back=LOOK_BACK, \n",
    "        look_fwd=LOOK_FWD, \n",
    "        cols_features=cols_features, \n",
    "        batch_size=BATCH_SIZE\n",
    "    )\n",
    ")\n",
    "print(X.shape, y.shape)"
   ]
  },
  {
   "cell_type": "code",
   "execution_count": 13,
   "metadata": {},
   "outputs": [
    {
     "name": "stdout",
     "output_type": "stream",
     "text": [
      "batches in train: 4754\n",
      "batches in val: 2592\n"
     ]
    }
   ],
   "source": [
    "print('batches in train:', len(strain) // BATCH_SIZE + 1)\n",
    "print('batches in val:', len(sval) // BATCH_SIZE + 1)"
   ]
  },
  {
   "cell_type": "code",
   "execution_count": 14,
   "metadata": {},
   "outputs": [
    {
     "name": "stdout",
     "output_type": "stream",
     "text": [
      "WARNING:tensorflow:From /opt/conda/envs/mrorangeenv/lib/python3.7/site-packages/tensorflow/python/ops/init_ops.py:1251: calling VarianceScaling.__init__ (from tensorflow.python.ops.init_ops) with dtype is deprecated and will be removed in a future version.\n",
      "Instructions for updating:\n",
      "Call initializer instance with the dtype argument instead of passing it to the constructor\n",
      "Model: \"sequential\"\n",
      "_________________________________________________________________\n",
      "Layer (type)                 Output Shape              Param #   \n",
      "=================================================================\n",
      "lstm (LSTM)                  (None, 56, 512)           7376896   \n",
      "_________________________________________________________________\n",
      "dropout (Dropout)            (None, 56, 512)           0         \n",
      "_________________________________________________________________\n",
      "lstm_1 (LSTM)                (None, 512)               2099200   \n",
      "_________________________________________________________________\n",
      "dropout_1 (Dropout)          (None, 512)               0         \n",
      "_________________________________________________________________\n",
      "dense (Dense)                (None, 28)                14364     \n",
      "_________________________________________________________________\n",
      "activation (Activation)      (None, 28)                0         \n",
      "=================================================================\n",
      "Total params: 9,490,460\n",
      "Trainable params: 9,490,460\n",
      "Non-trainable params: 0\n",
      "_________________________________________________________________\n"
     ]
    }
   ],
   "source": [
    "n_features = 3089\n",
    "model = Sequential()\n",
    "model.add(LSTM(units=512, input_shape=(LOOK_BACK, n_features), return_sequences=True))\n",
    "model.add(Dropout(.4))\n",
    "model.add(LSTM(units=512))\n",
    "model.add(Dropout(.4))\n",
    "model.add(Dense(LOOK_FWD))\n",
    "model.add(Activation('linear'))\n",
    "adam = optimizers.Adam(lr=.001, clipvalue=.5, clipnorm=1)\n",
    "model.compile(loss='mse', optimizer=adam)\n",
    "model.summary()"
   ]
  },
  {
   "cell_type": "code",
   "execution_count": null,
   "metadata": {},
   "outputs": [
    {
     "name": "stdout",
     "output_type": "stream",
     "text": [
      "Epoch 1/100\n",
      "4753/4754 [============================>.] - ETA: 5s - loss: 8.3953e-05 \n",
      "Epoch 00001: val_loss improved from inf to 0.00011, saving model to ./models/model_v0.h5\n",
      "4754/4754 [==============================] - 25303s 5s/step - loss: 8.3941e-05 - val_loss: 1.0921e-04\n",
      "Epoch 2/100\n",
      "4753/4754 [============================>.] - ETA: 5s - loss: 8.1322e-05 \n",
      "Epoch 00002: val_loss did not improve from 0.00011\n",
      "4754/4754 [==============================] - 25296s 5s/step - loss: 8.1307e-05 - val_loss: 1.1801e-04\n",
      "Epoch 3/100\n",
      "4753/4754 [============================>.] - ETA: 5s - loss: 7.6786e-05 \n",
      "Epoch 00003: val_loss did not improve from 0.00011\n",
      "4754/4754 [==============================] - 26071s 5s/step - loss: 7.6772e-05 - val_loss: 1.1893e-04\n",
      "Epoch 4/100\n",
      "1344/4754 [=======>......................] - ETA: 5:01:44 - loss: 1.0158e-04"
     ]
    }
   ],
   "source": [
    "%%time\n",
    "model_file = '{}/model_{}.h5'.format(MODELS_DIR, MODEL_VER)\n",
    "modelsaver = ModelCheckpoint(\n",
    "    model_file, \n",
    "    monitor='val_loss', \n",
    "    verbose=1, \n",
    "    save_best_only=True,\n",
    "    mode='min'\n",
    ")\n",
    "earlystopper = EarlyStopping(monitor='val_loss', patience=10, verbose=1)\n",
    "history = model.fit_generator(\n",
    "    SeqGenerator(\n",
    "        df=strain, \n",
    "        dummies=sdummies_id, \n",
    "        col_id='id', \n",
    "        col_look='sales', \n",
    "        look_back=LOOK_BACK, \n",
    "        look_fwd=LOOK_FWD, \n",
    "        cols_features=cols_features, \n",
    "        batch_size=BATCH_SIZE\n",
    "    ),\n",
    "    steps_per_epoch=len(strain) // BATCH_SIZE + 1,\n",
    "    validation_data=SeqGenerator(\n",
    "        df=sval, \n",
    "        dummies=sdummies_id, \n",
    "        col_id='id', \n",
    "        col_look='sales', \n",
    "        look_back=LOOK_BACK, \n",
    "        look_fwd=LOOK_FWD, \n",
    "        cols_features=cols_features, \n",
    "        batch_size=BATCH_SIZE\n",
    "    ),\n",
    "    validation_steps=len(sval) // BATCH_SIZE + 1,\n",
    "    epochs=100,\n",
    "    callbacks=[earlystopper, modelsaver],\n",
    "    verbose=1,\n",
    "    shuffle=False\n",
    ")"
   ]
  },
  {
   "cell_type": "code",
   "execution_count": null,
   "metadata": {},
   "outputs": [],
   "source": [
    "plt.figure(figsize=(8, 4))\n",
    "plt.plot(history.history['loss'], label='train')\n",
    "plt.plot(history.history['val_loss'], label='val')\n",
    "plt.legend()\n",
    "plt.show()"
   ]
  },
  {
   "cell_type": "code",
   "execution_count": 136,
   "metadata": {},
   "outputs": [
    {
     "name": "stdout",
     "output_type": "stream",
     "text": [
      "Model: \"sequential\"\n",
      "_________________________________________________________________\n",
      "Layer (type)                 Output Shape              Param #   \n",
      "=================================================================\n",
      "lstm (LSTM)                  (None, 56, 512)           7376896   \n",
      "_________________________________________________________________\n",
      "dropout (Dropout)            (None, 56, 512)           0         \n",
      "_________________________________________________________________\n",
      "lstm_1 (LSTM)                (None, 512)               2099200   \n",
      "_________________________________________________________________\n",
      "dropout_1 (Dropout)          (None, 512)               0         \n",
      "_________________________________________________________________\n",
      "dense (Dense)                (None, 28)                14364     \n",
      "_________________________________________________________________\n",
      "activation (Activation)      (None, 28)                0         \n",
      "=================================================================\n",
      "Total params: 9,490,460\n",
      "Trainable params: 9,490,460\n",
      "Non-trainable params: 0\n",
      "_________________________________________________________________\n"
     ]
    }
   ],
   "source": [
    "model_file = '{}/model_{}.h5'.format(MODELS_DIR, MODEL_VER)\n",
    "model = load_model(model_file)\n",
    "model.summary()"
   ]
  },
  {
   "cell_type": "code",
   "execution_count": 18,
   "metadata": {},
   "outputs": [
    {
     "name": "stdout",
     "output_type": "stream",
     "text": [
      "(11, 56, 3090) (11, 28)\n"
     ]
    },
    {
     "data": {
      "image/png": "[encoded data removed]",
      "text/plain": [
       "<Figure size 1152x288 with 1 Axes>"
      ]
     },
     "metadata": {
      "needs_background": "light"
     },
     "output_type": "display_data"
    }
   ],
   "source": [
    "X_val, y_val = next(\n",
    "    SeqGenerator(\n",
    "        df=sval, \n",
    "        dummies=sdummies_id, \n",
    "        col_id='id', \n",
    "        col_look='sales', \n",
    "        look_back=LOOK_BACK, \n",
    "        look_fwd=LOOK_FWD, \n",
    "        cols_features=num_cols, \n",
    "        batch_size=BATCH_SIZE\n",
    "    )\n",
    ")\n",
    "print(X_val.shape, y_val.shape)\n",
    "num = 0\n",
    "plt.figure(figsize=(16, 4))\n",
    "plt.plot(X_val.T[0][:, num], label='back')\n",
    "plt.plot(y_val.T[:, num], label='fwd')\n",
    "plt.show()"
   ]
  },
  {
   "cell_type": "code",
   "execution_count": 28,
   "metadata": {},
   "outputs": [],
   "source": [
    "def get_sequence_predict(df, pred_len, dummies, col_id, col_look, look_back, look_fwd, cols_features):\n",
    "    X, temp_X = [], []\n",
    "    i_end = len(df) - pred_len - look_back - look_fwd - 1\n",
    "    temp_X.append(df[col_look][i_end : i_end + look_back])\n",
    "    for col in cols_features:\n",
    "        temp_X.append(df[col][i_end + look_fwd : i_end + look_back + look_fwd])\n",
    "    temp_D = np.array([dummies.loc[dummies[col_id] == df.id.values[0]].values[0][1:]] * look_back).T\n",
    "    temp_X = np.vstack((temp_X, temp_D))\n",
    "    X.append(temp_X)\n",
    "    X = [x.T for x in np.array(X)] # to feed LSTM with shape as [samples, time steps, features]\n",
    "    return np.array(X)\n",
    "def upscale(series):\n",
    "    return SCALER.inverse_transform(np.repeat([series], 12, axis=0).T)[:, 1]"
   ]
  },
  {
   "cell_type": "code",
   "execution_count": 37,
   "metadata": {
    "scrolled": true
   },
   "outputs": [
    {
     "data": {
      "image/png": "[encoded data removed]",
      "text/plain": [
       "<Figure size 1152x288 with 1 Axes>"
      ]
     },
     "metadata": {
      "needs_background": "light"
     },
     "output_type": "display_data"
    }
   ],
   "source": [
    "pred_id = strain.id.unique()[7]\n",
    "X_pred = get_sequence_predict(\n",
    "    df=strain[strain.id == pred_id], \n",
    "    pred_len = 0,\n",
    "    dummies=sdummies_id, \n",
    "    col_id='id', \n",
    "    col_look='sales', \n",
    "    look_back=LOOK_BACK, \n",
    "    look_fwd=LOOK_FWD, \n",
    "    cols_features=cols_features\n",
    ")\n",
    "preds = model.predict(X_pred)\n",
    "plt.figure(figsize=(16, 4))\n",
    "plt.plot(upscale(preds[0]), label='preds')\n",
    "plt.plot(upscale(sval[sval.id == pred_id]['sales'].values[:28]), label='true')\n",
    "plt.title(pred_id)\n",
    "plt.legend()\n",
    "plt.show()"
   ]
  },
  {
   "cell_type": "code",
   "execution_count": 39,
   "metadata": {},
   "outputs": [
    {
     "name": "stdout",
     "output_type": "stream",
     "text": [
      "read train: (30490, 1919)\n",
      "last day is: 1913\n",
      "melted train: (60034810, 8)\n",
      "read calendar: (1969, 14)\n",
      "calendar merge done\n",
      "read prices: (6841121, 4)\n",
      "prices merge done\n",
      "begin train date: 2011-01-29 00:00:00\n",
      "end train date: 2016-06-19 00:00:00\n",
      "date cut train: (3445370, 22)\n",
      "cut train date: 2016-02-28 00:00:00\n",
      "end train date: 2016-06-19 00:00:00\n",
      "date features done\n",
      "trash cols deleted, sorted\n",
      "out dataframe: (3445370, 23)\n",
      "min-max scaled\n",
      "CPU times: user 43 s, sys: 6.94 s, total: 50 s\n",
      "Wall time: 49.9 s\n"
     ]
    }
   ],
   "source": [
    "%%time\n",
    "spred = get_df(is_train=False, backward_lags=LOOK_BACK)\n",
    "spred[num_cols] = SCALER.transform(spred[num_cols])\n",
    "print('min-max scaled')\n",
    "#spred.drop(columns=['d_'], inplace=True)"
   ]
  },
  {
   "cell_type": "code",
   "execution_count": 40,
   "metadata": {},
   "outputs": [
    {
     "name": "stdout",
     "output_type": "stream",
     "text": [
      "113\n",
      "30490\n",
      "56\n",
      "1857 1969\n"
     ]
    },
    {
     "data": {
      "text/html": [
       "<div>\n",
       "<style scoped>\n",
       "    .dataframe tbody tr th:only-of-type {\n",
       "        vertical-align: middle;\n",
       "    }\n",
       "\n",
       "    .dataframe tbody tr th {\n",
       "        vertical-align: top;\n",
       "    }\n",
       "\n",
       "    .dataframe thead th {\n",
       "        text-align: right;\n",
       "    }\n",
       "</style>\n",
       "<table border=\"1\" class=\"dataframe\">\n",
       "  <thead>\n",
       "    <tr style=\"text-align: right;\">\n",
       "      <th></th>\n",
       "      <th>id</th>\n",
       "      <th>item_id</th>\n",
       "      <th>dept_id</th>\n",
       "      <th>store_id</th>\n",
       "      <th>cat_id</th>\n",
       "      <th>state_id</th>\n",
       "      <th>d</th>\n",
       "      <th>sales</th>\n",
       "      <th>wday</th>\n",
       "      <th>month</th>\n",
       "      <th>year</th>\n",
       "      <th>event_name_1</th>\n",
       "      <th>event_type_1</th>\n",
       "      <th>event_name_2</th>\n",
       "      <th>event_type_2</th>\n",
       "      <th>snap_CA</th>\n",
       "      <th>snap_TX</th>\n",
       "      <th>snap_WI</th>\n",
       "      <th>sell_price</th>\n",
       "      <th>week_num</th>\n",
       "      <th>quarter</th>\n",
       "      <th>mday</th>\n",
       "      <th>d_</th>\n",
       "    </tr>\n",
       "  </thead>\n",
       "  <tbody>\n",
       "    <tr>\n",
       "      <th>45978262</th>\n",
       "      <td>FOODS_1_001_CA_1_validation</td>\n",
       "      <td>FOODS_1_001</td>\n",
       "      <td>FOODS_1</td>\n",
       "      <td>CA_1</td>\n",
       "      <td>FOODS</td>\n",
       "      <td>CA</td>\n",
       "      <td>1.000000</td>\n",
       "      <td>0.0</td>\n",
       "      <td>0.166667</td>\n",
       "      <td>0.272727</td>\n",
       "      <td>1.0</td>\n",
       "      <td>NaN</td>\n",
       "      <td>NaN</td>\n",
       "      <td>NaN</td>\n",
       "      <td>NaN</td>\n",
       "      <td>0.0</td>\n",
       "      <td>0.0</td>\n",
       "      <td>0.0</td>\n",
       "      <td>0.065043</td>\n",
       "      <td>0.288462</td>\n",
       "      <td>0.333333</td>\n",
       "      <td>0.766667</td>\n",
       "      <td>1913</td>\n",
       "    </tr>\n",
       "    <tr>\n",
       "      <th>45978263</th>\n",
       "      <td>FOODS_1_001_CA_1_validation</td>\n",
       "      <td>FOODS_1_001</td>\n",
       "      <td>FOODS_1</td>\n",
       "      <td>CA_1</td>\n",
       "      <td>FOODS</td>\n",
       "      <td>CA</td>\n",
       "      <td>1.005464</td>\n",
       "      <td>NaN</td>\n",
       "      <td>0.333333</td>\n",
       "      <td>0.272727</td>\n",
       "      <td>1.0</td>\n",
       "      <td>NaN</td>\n",
       "      <td>NaN</td>\n",
       "      <td>NaN</td>\n",
       "      <td>NaN</td>\n",
       "      <td>0.0</td>\n",
       "      <td>0.0</td>\n",
       "      <td>0.0</td>\n",
       "      <td>0.065043</td>\n",
       "      <td>0.307692</td>\n",
       "      <td>0.333333</td>\n",
       "      <td>0.800000</td>\n",
       "      <td>1914</td>\n",
       "    </tr>\n",
       "    <tr>\n",
       "      <th>45978264</th>\n",
       "      <td>FOODS_1_001_CA_1_validation</td>\n",
       "      <td>FOODS_1_001</td>\n",
       "      <td>FOODS_1</td>\n",
       "      <td>CA_1</td>\n",
       "      <td>FOODS</td>\n",
       "      <td>CA</td>\n",
       "      <td>1.010929</td>\n",
       "      <td>NaN</td>\n",
       "      <td>0.500000</td>\n",
       "      <td>0.272727</td>\n",
       "      <td>1.0</td>\n",
       "      <td>NaN</td>\n",
       "      <td>NaN</td>\n",
       "      <td>NaN</td>\n",
       "      <td>NaN</td>\n",
       "      <td>0.0</td>\n",
       "      <td>0.0</td>\n",
       "      <td>0.0</td>\n",
       "      <td>0.065043</td>\n",
       "      <td>0.307692</td>\n",
       "      <td>0.333333</td>\n",
       "      <td>0.833333</td>\n",
       "      <td>1915</td>\n",
       "    </tr>\n",
       "    <tr>\n",
       "      <th>45978265</th>\n",
       "      <td>FOODS_1_001_CA_1_validation</td>\n",
       "      <td>FOODS_1_001</td>\n",
       "      <td>FOODS_1</td>\n",
       "      <td>CA_1</td>\n",
       "      <td>FOODS</td>\n",
       "      <td>CA</td>\n",
       "      <td>1.016393</td>\n",
       "      <td>NaN</td>\n",
       "      <td>0.666667</td>\n",
       "      <td>0.272727</td>\n",
       "      <td>1.0</td>\n",
       "      <td>NaN</td>\n",
       "      <td>NaN</td>\n",
       "      <td>NaN</td>\n",
       "      <td>NaN</td>\n",
       "      <td>0.0</td>\n",
       "      <td>0.0</td>\n",
       "      <td>0.0</td>\n",
       "      <td>0.065043</td>\n",
       "      <td>0.307692</td>\n",
       "      <td>0.333333</td>\n",
       "      <td>0.866667</td>\n",
       "      <td>1916</td>\n",
       "    </tr>\n",
       "    <tr>\n",
       "      <th>45978266</th>\n",
       "      <td>FOODS_1_001_CA_1_validation</td>\n",
       "      <td>FOODS_1_001</td>\n",
       "      <td>FOODS_1</td>\n",
       "      <td>CA_1</td>\n",
       "      <td>FOODS</td>\n",
       "      <td>CA</td>\n",
       "      <td>1.021858</td>\n",
       "      <td>NaN</td>\n",
       "      <td>0.833333</td>\n",
       "      <td>0.272727</td>\n",
       "      <td>1.0</td>\n",
       "      <td>NaN</td>\n",
       "      <td>NaN</td>\n",
       "      <td>NaN</td>\n",
       "      <td>NaN</td>\n",
       "      <td>0.0</td>\n",
       "      <td>0.0</td>\n",
       "      <td>0.0</td>\n",
       "      <td>0.065043</td>\n",
       "      <td>0.307692</td>\n",
       "      <td>0.333333</td>\n",
       "      <td>0.900000</td>\n",
       "      <td>1917</td>\n",
       "    </tr>\n",
       "  </tbody>\n",
       "</table>\n",
       "</div>"
      ],
      "text/plain": [
       "                                   id      item_id  dept_id store_id cat_id  \\\n",
       "45978262  FOODS_1_001_CA_1_validation  FOODS_1_001  FOODS_1     CA_1  FOODS   \n",
       "45978263  FOODS_1_001_CA_1_validation  FOODS_1_001  FOODS_1     CA_1  FOODS   \n",
       "45978264  FOODS_1_001_CA_1_validation  FOODS_1_001  FOODS_1     CA_1  FOODS   \n",
       "45978265  FOODS_1_001_CA_1_validation  FOODS_1_001  FOODS_1     CA_1  FOODS   \n",
       "45978266  FOODS_1_001_CA_1_validation  FOODS_1_001  FOODS_1     CA_1  FOODS   \n",
       "\n",
       "         state_id         d  sales      wday     month  year event_name_1  \\\n",
       "45978262       CA  1.000000    0.0  0.166667  0.272727   1.0          NaN   \n",
       "45978263       CA  1.005464    NaN  0.333333  0.272727   1.0          NaN   \n",
       "45978264       CA  1.010929    NaN  0.500000  0.272727   1.0          NaN   \n",
       "45978265       CA  1.016393    NaN  0.666667  0.272727   1.0          NaN   \n",
       "45978266       CA  1.021858    NaN  0.833333  0.272727   1.0          NaN   \n",
       "\n",
       "         event_type_1 event_name_2 event_type_2  snap_CA  snap_TX  snap_WI  \\\n",
       "45978262          NaN          NaN          NaN      0.0      0.0      0.0   \n",
       "45978263          NaN          NaN          NaN      0.0      0.0      0.0   \n",
       "45978264          NaN          NaN          NaN      0.0      0.0      0.0   \n",
       "45978265          NaN          NaN          NaN      0.0      0.0      0.0   \n",
       "45978266          NaN          NaN          NaN      0.0      0.0      0.0   \n",
       "\n",
       "          sell_price  week_num   quarter      mday    d_  \n",
       "45978262    0.065043  0.288462  0.333333  0.766667  1913  \n",
       "45978263    0.065043  0.307692  0.333333  0.800000  1914  \n",
       "45978264    0.065043  0.307692  0.333333  0.833333  1915  \n",
       "45978265    0.065043  0.307692  0.333333  0.866667  1916  \n",
       "45978266    0.065043  0.307692  0.333333  0.900000  1917  "
      ]
     },
     "execution_count": 40,
     "metadata": {},
     "output_type": "execute_result"
    }
   ],
   "source": [
    "print('len per one id:', len(spred[(spred.id == 'FOODS_1_001_CA_1_validation')]))\n",
    "print('unique ids:', len(spred.id.unique()))\n",
    "print('len forward:', len(spred[(spred.id == 'FOODS_1_001_CA_1_validation') & (spred.d_ > 1913)]))\n",
    "print('min max day:', spred.d_.min(), spred.d_.max())\n",
    "spred[spred.d_ >= 1913].head()"
   ]
  },
  {
   "cell_type": "code",
   "execution_count": 45,
   "metadata": {},
   "outputs": [
    {
     "name": "stderr",
     "output_type": "stream",
     "text": [
      "/opt/conda/envs/mrorangeenv/lib/python3.7/site-packages/ipykernel_launcher.py:1: TqdmDeprecationWarning: This function will be removed in tqdm==5.0.0\n",
      "Please use `tqdm.notebook.tqdm` instead of `tqdm.tqdm_notebook`\n",
      "  \"\"\"Entry point for launching an IPython kernel.\n"
     ]
    },
    {
     "data": {
      "application/vnd.jupyter.widget-view+json": {
       "model_id": "dec8eff1ff6f47bfbcd83326bc0666bf",
       "version_major": 2,
       "version_minor": 0
      },
      "text/plain": [
       "HBox(children=(FloatProgress(value=0.0, max=30490.0), HTML(value='')))"
      ]
     },
     "metadata": {},
     "output_type": "display_data"
    },
    {
     "name": "stdout",
     "output_type": "stream",
     "text": [
      "\n"
     ]
    }
   ],
   "source": [
    "for pred_id in tqdm(spred.id.unique()):\n",
    "    X_pred = get_sequence_predict(\n",
    "        df=spred[spred.id == pred_id], \n",
    "        pred_len = 28,\n",
    "        dummies=sdummies_id, \n",
    "        col_id='id', \n",
    "        col_look='sales', \n",
    "        look_back=LOOK_BACK, \n",
    "        look_fwd=LOOK_FWD, \n",
    "        cols_features=cols_features\n",
    "    )\n",
    "    preds = model.predict(X_pred)\n",
    "    spred.loc[\n",
    "        (spred.id == pred_id) & \n",
    "        (spred.d_ > 1913) & \n",
    "        (spred.d_ <= 1913 + 28), \n",
    "        'sales'\n",
    "    ] = upscale(preds[0]) "
   ]
  },
  {
   "cell_type": "code",
   "execution_count": 135,
   "metadata": {},
   "outputs": [
    {
     "data": {
      "image/png": "[encoded data removed]",
      "text/plain": [
       "<Figure size 1152x288 with 1 Axes>"
      ]
     },
     "metadata": {
      "needs_background": "light"
     },
     "output_type": "display_data"
    }
   ],
   "source": [
    "pred_id =  np.random.choice(spred.id.unique())\n",
    "spred_plt = spred.loc[spred.id == pred_id, ['d_', 'sales']].set_index('d_')\n",
    "spred_plt.loc[spred_plt.index <= 1913, 'sales'] = upscale(spred_plt[spred_plt.index <= 1913]['sales'])\n",
    "plt.figure(figsize=(16, 4))\n",
    "plt.plot(spred_plt[spred_plt.index <= 1913], label='fact')\n",
    "plt.plot(spred_plt[spred_plt.index > 1913], label='pred')\n",
    "plt.title(pred_id)\n",
    "plt.legend()\n",
    "plt.show()"
   ]
  },
  {
   "cell_type": "code",
   "execution_count": 125,
   "metadata": {},
   "outputs": [
    {
     "data": {
      "text/html": [
       "<div>\n",
       "<style scoped>\n",
       "    .dataframe tbody tr th:only-of-type {\n",
       "        vertical-align: middle;\n",
       "    }\n",
       "\n",
       "    .dataframe tbody tr th {\n",
       "        vertical-align: top;\n",
       "    }\n",
       "\n",
       "    .dataframe thead th {\n",
       "        text-align: right;\n",
       "    }\n",
       "</style>\n",
       "<table border=\"1\" class=\"dataframe\">\n",
       "  <thead>\n",
       "    <tr style=\"text-align: right;\">\n",
       "      <th></th>\n",
       "      <th>id</th>\n",
       "      <th>d_</th>\n",
       "      <th>sales</th>\n",
       "    </tr>\n",
       "  </thead>\n",
       "  <tbody>\n",
       "    <tr>\n",
       "      <th>45978263</th>\n",
       "      <td>FOODS_1_001_CA_1_validation</td>\n",
       "      <td>F1</td>\n",
       "      <td>0.915840</td>\n",
       "    </tr>\n",
       "    <tr>\n",
       "      <th>45978264</th>\n",
       "      <td>FOODS_1_001_CA_1_validation</td>\n",
       "      <td>F2</td>\n",
       "      <td>0.887936</td>\n",
       "    </tr>\n",
       "    <tr>\n",
       "      <th>45978265</th>\n",
       "      <td>FOODS_1_001_CA_1_validation</td>\n",
       "      <td>F3</td>\n",
       "      <td>0.846309</td>\n",
       "    </tr>\n",
       "    <tr>\n",
       "      <th>45978266</th>\n",
       "      <td>FOODS_1_001_CA_1_validation</td>\n",
       "      <td>F4</td>\n",
       "      <td>0.846951</td>\n",
       "    </tr>\n",
       "    <tr>\n",
       "      <th>45978267</th>\n",
       "      <td>FOODS_1_001_CA_1_validation</td>\n",
       "      <td>F5</td>\n",
       "      <td>0.853231</td>\n",
       "    </tr>\n",
       "  </tbody>\n",
       "</table>\n",
       "</div>"
      ],
      "text/plain": [
       "                                   id  d_     sales\n",
       "45978263  FOODS_1_001_CA_1_validation  F1  0.915840\n",
       "45978264  FOODS_1_001_CA_1_validation  F2  0.887936\n",
       "45978265  FOODS_1_001_CA_1_validation  F3  0.846309\n",
       "45978266  FOODS_1_001_CA_1_validation  F4  0.846951\n",
       "45978267  FOODS_1_001_CA_1_validation  F5  0.853231"
      ]
     },
     "execution_count": 125,
     "metadata": {},
     "output_type": "execute_result"
    }
   ],
   "source": [
    "spred_subm = spred.loc[spred.d_ > 1913, ['id', 'd_', 'sales']].copy()\n",
    "spred_subm['d_'] = spred_subm['d_'].apply(lambda x: 'F{}'.format(x - 1913))\n",
    "spred_subm.loc[spred_subm['sales'] < 0, 'sales'] = 0\n",
    "spred_subm.head()"
   ]
  },
  {
   "cell_type": "code",
   "execution_count": 126,
   "metadata": {},
   "outputs": [
    {
     "data": {
      "text/html": [
       "<div>\n",
       "<style scoped>\n",
       "    .dataframe tbody tr th:only-of-type {\n",
       "        vertical-align: middle;\n",
       "    }\n",
       "\n",
       "    .dataframe tbody tr th {\n",
       "        vertical-align: top;\n",
       "    }\n",
       "\n",
       "    .dataframe thead th {\n",
       "        text-align: right;\n",
       "    }\n",
       "</style>\n",
       "<table border=\"1\" class=\"dataframe\">\n",
       "  <thead>\n",
       "    <tr style=\"text-align: right;\">\n",
       "      <th>d_</th>\n",
       "      <th>id</th>\n",
       "      <th>F1</th>\n",
       "      <th>F2</th>\n",
       "      <th>F3</th>\n",
       "      <th>F4</th>\n",
       "      <th>F5</th>\n",
       "      <th>F6</th>\n",
       "      <th>F7</th>\n",
       "      <th>F8</th>\n",
       "      <th>F9</th>\n",
       "      <th>F10</th>\n",
       "      <th>F11</th>\n",
       "      <th>F12</th>\n",
       "      <th>F13</th>\n",
       "      <th>F14</th>\n",
       "      <th>F15</th>\n",
       "      <th>F16</th>\n",
       "      <th>F17</th>\n",
       "      <th>F18</th>\n",
       "      <th>F19</th>\n",
       "      <th>F20</th>\n",
       "      <th>F21</th>\n",
       "      <th>F22</th>\n",
       "      <th>F23</th>\n",
       "      <th>F24</th>\n",
       "      <th>F25</th>\n",
       "      <th>F26</th>\n",
       "      <th>F27</th>\n",
       "      <th>F28</th>\n",
       "    </tr>\n",
       "  </thead>\n",
       "  <tbody>\n",
       "    <tr>\n",
       "      <th>0</th>\n",
       "      <td>FOODS_1_001_CA_1_validation</td>\n",
       "      <td>0.915840</td>\n",
       "      <td>0.887936</td>\n",
       "      <td>0.846309</td>\n",
       "      <td>0.846951</td>\n",
       "      <td>0.853231</td>\n",
       "      <td>0.896160</td>\n",
       "      <td>0.964521</td>\n",
       "      <td>0.958334</td>\n",
       "      <td>0.926973</td>\n",
       "      <td>0.905720</td>\n",
       "      <td>0.882235</td>\n",
       "      <td>0.898691</td>\n",
       "      <td>0.939815</td>\n",
       "      <td>0.987397</td>\n",
       "      <td>0.968169</td>\n",
       "      <td>0.913336</td>\n",
       "      <td>0.876843</td>\n",
       "      <td>0.852523</td>\n",
       "      <td>0.859228</td>\n",
       "      <td>0.916725</td>\n",
       "      <td>0.948941</td>\n",
       "      <td>0.928826</td>\n",
       "      <td>0.888496</td>\n",
       "      <td>0.850013</td>\n",
       "      <td>0.846244</td>\n",
       "      <td>0.860001</td>\n",
       "      <td>0.897595</td>\n",
       "      <td>0.937522</td>\n",
       "    </tr>\n",
       "    <tr>\n",
       "      <th>1</th>\n",
       "      <td>FOODS_1_001_CA_2_validation</td>\n",
       "      <td>1.010658</td>\n",
       "      <td>0.974674</td>\n",
       "      <td>0.922380</td>\n",
       "      <td>0.926757</td>\n",
       "      <td>0.941847</td>\n",
       "      <td>0.991177</td>\n",
       "      <td>1.056420</td>\n",
       "      <td>1.054402</td>\n",
       "      <td>1.010821</td>\n",
       "      <td>0.981671</td>\n",
       "      <td>0.956029</td>\n",
       "      <td>0.983631</td>\n",
       "      <td>1.030779</td>\n",
       "      <td>1.078408</td>\n",
       "      <td>1.060063</td>\n",
       "      <td>0.993582</td>\n",
       "      <td>0.945779</td>\n",
       "      <td>0.931179</td>\n",
       "      <td>0.942695</td>\n",
       "      <td>1.006611</td>\n",
       "      <td>1.040076</td>\n",
       "      <td>1.018435</td>\n",
       "      <td>0.970778</td>\n",
       "      <td>0.919638</td>\n",
       "      <td>0.921513</td>\n",
       "      <td>0.944374</td>\n",
       "      <td>0.984380</td>\n",
       "      <td>1.027270</td>\n",
       "    </tr>\n",
       "    <tr>\n",
       "      <th>2</th>\n",
       "      <td>FOODS_1_001_CA_3_validation</td>\n",
       "      <td>1.211411</td>\n",
       "      <td>1.136265</td>\n",
       "      <td>1.046470</td>\n",
       "      <td>1.026813</td>\n",
       "      <td>1.042762</td>\n",
       "      <td>1.139734</td>\n",
       "      <td>1.274535</td>\n",
       "      <td>1.259156</td>\n",
       "      <td>1.180295</td>\n",
       "      <td>1.114340</td>\n",
       "      <td>1.061376</td>\n",
       "      <td>1.092580</td>\n",
       "      <td>1.187874</td>\n",
       "      <td>1.300560</td>\n",
       "      <td>1.273436</td>\n",
       "      <td>1.167708</td>\n",
       "      <td>1.068281</td>\n",
       "      <td>1.026831</td>\n",
       "      <td>1.056934</td>\n",
       "      <td>1.169662</td>\n",
       "      <td>1.260599</td>\n",
       "      <td>1.231583</td>\n",
       "      <td>1.146808</td>\n",
       "      <td>1.043639</td>\n",
       "      <td>1.021358</td>\n",
       "      <td>1.052932</td>\n",
       "      <td>1.151574</td>\n",
       "      <td>1.244816</td>\n",
       "    </tr>\n",
       "    <tr>\n",
       "      <th>3</th>\n",
       "      <td>FOODS_1_001_CA_4_validation</td>\n",
       "      <td>0.725009</td>\n",
       "      <td>0.712955</td>\n",
       "      <td>0.698743</td>\n",
       "      <td>0.716626</td>\n",
       "      <td>0.721789</td>\n",
       "      <td>0.744011</td>\n",
       "      <td>0.768754</td>\n",
       "      <td>0.769342</td>\n",
       "      <td>0.760438</td>\n",
       "      <td>0.762106</td>\n",
       "      <td>0.756081</td>\n",
       "      <td>0.769118</td>\n",
       "      <td>0.778597</td>\n",
       "      <td>0.787916</td>\n",
       "      <td>0.771806</td>\n",
       "      <td>0.751043</td>\n",
       "      <td>0.738966</td>\n",
       "      <td>0.731675</td>\n",
       "      <td>0.735828</td>\n",
       "      <td>0.755048</td>\n",
       "      <td>0.751948</td>\n",
       "      <td>0.738900</td>\n",
       "      <td>0.724389</td>\n",
       "      <td>0.715272</td>\n",
       "      <td>0.730064</td>\n",
       "      <td>0.731902</td>\n",
       "      <td>0.738223</td>\n",
       "      <td>0.744608</td>\n",
       "    </tr>\n",
       "    <tr>\n",
       "      <th>4</th>\n",
       "      <td>FOODS_1_001_TX_1_validation</td>\n",
       "      <td>0.881765</td>\n",
       "      <td>0.858544</td>\n",
       "      <td>0.835336</td>\n",
       "      <td>0.857767</td>\n",
       "      <td>0.864228</td>\n",
       "      <td>0.888532</td>\n",
       "      <td>0.927661</td>\n",
       "      <td>0.922358</td>\n",
       "      <td>0.902841</td>\n",
       "      <td>0.900003</td>\n",
       "      <td>0.887351</td>\n",
       "      <td>0.907568</td>\n",
       "      <td>0.923309</td>\n",
       "      <td>0.947057</td>\n",
       "      <td>0.927247</td>\n",
       "      <td>0.891279</td>\n",
       "      <td>0.875372</td>\n",
       "      <td>0.866549</td>\n",
       "      <td>0.873514</td>\n",
       "      <td>0.905908</td>\n",
       "      <td>0.912835</td>\n",
       "      <td>0.891366</td>\n",
       "      <td>0.866317</td>\n",
       "      <td>0.849450</td>\n",
       "      <td>0.858729</td>\n",
       "      <td>0.867147</td>\n",
       "      <td>0.883223</td>\n",
       "      <td>0.900994</td>\n",
       "    </tr>\n",
       "  </tbody>\n",
       "</table>\n",
       "</div>"
      ],
      "text/plain": [
       "d_                           id        F1        F2        F3        F4  \\\n",
       "0   FOODS_1_001_CA_1_validation  0.915840  0.887936  0.846309  0.846951   \n",
       "1   FOODS_1_001_CA_2_validation  1.010658  0.974674  0.922380  0.926757   \n",
       "2   FOODS_1_001_CA_3_validation  1.211411  1.136265  1.046470  1.026813   \n",
       "3   FOODS_1_001_CA_4_validation  0.725009  0.712955  0.698743  0.716626   \n",
       "4   FOODS_1_001_TX_1_validation  0.881765  0.858544  0.835336  0.857767   \n",
       "\n",
       "d_        F5        F6        F7        F8        F9       F10       F11  \\\n",
       "0   0.853231  0.896160  0.964521  0.958334  0.926973  0.905720  0.882235   \n",
       "1   0.941847  0.991177  1.056420  1.054402  1.010821  0.981671  0.956029   \n",
       "2   1.042762  1.139734  1.274535  1.259156  1.180295  1.114340  1.061376   \n",
       "3   0.721789  0.744011  0.768754  0.769342  0.760438  0.762106  0.756081   \n",
       "4   0.864228  0.888532  0.927661  0.922358  0.902841  0.900003  0.887351   \n",
       "\n",
       "d_       F12       F13       F14       F15       F16       F17       F18  \\\n",
       "0   0.898691  0.939815  0.987397  0.968169  0.913336  0.876843  0.852523   \n",
       "1   0.983631  1.030779  1.078408  1.060063  0.993582  0.945779  0.931179   \n",
       "2   1.092580  1.187874  1.300560  1.273436  1.167708  1.068281  1.026831   \n",
       "3   0.769118  0.778597  0.787916  0.771806  0.751043  0.738966  0.731675   \n",
       "4   0.907568  0.923309  0.947057  0.927247  0.891279  0.875372  0.866549   \n",
       "\n",
       "d_       F19       F20       F21       F22       F23       F24       F25  \\\n",
       "0   0.859228  0.916725  0.948941  0.928826  0.888496  0.850013  0.846244   \n",
       "1   0.942695  1.006611  1.040076  1.018435  0.970778  0.919638  0.921513   \n",
       "2   1.056934  1.169662  1.260599  1.231583  1.146808  1.043639  1.021358   \n",
       "3   0.735828  0.755048  0.751948  0.738900  0.724389  0.715272  0.730064   \n",
       "4   0.873514  0.905908  0.912835  0.891366  0.866317  0.849450  0.858729   \n",
       "\n",
       "d_       F26       F27       F28  \n",
       "0   0.860001  0.897595  0.937522  \n",
       "1   0.944374  0.984380  1.027270  \n",
       "2   1.052932  1.151574  1.244816  \n",
       "3   0.731902  0.738223  0.744608  \n",
       "4   0.867147  0.883223  0.900994  "
      ]
     },
     "execution_count": 126,
     "metadata": {},
     "output_type": "execute_result"
    }
   ],
   "source": [
    "f_cols = ['F{}'.format(x) for x in range(1, 28 + 1)]\n",
    "spred_subm = spred_subm.set_index(['id', 'd_']).unstack()['sales'][f_cols].reset_index()\n",
    "spred_subm.fillna(0, inplace=True)\n",
    "spred_subm.sort_values('id', inplace=True)\n",
    "spred_subm.reset_index(drop=True, inplace=True)\n",
    "spred_subm.head()"
   ]
  },
  {
   "cell_type": "code",
   "execution_count": 127,
   "metadata": {},
   "outputs": [
    {
     "name": "stdout",
     "output_type": "stream",
     "text": [
      "(60980, 29)\n"
     ]
    }
   ],
   "source": [
    "spred_subm_eval = spred_subm.copy()\n",
    "spred_subm_eval['id'] = spred_subm_eval['id'].str.replace('validation', 'evaluation')\n",
    "spred_subm = pd.concat([spred_subm, spred_subm_eval], axis=0, sort=False)\n",
    "print(spred_subm.shape)\n",
    "spred_subm.to_csv('submission.csv',index=False)"
   ]
  },
  {
   "cell_type": "code",
   "execution_count": null,
   "metadata": {},
   "outputs": [],
   "source": []
  },
  {
   "cell_type": "code",
   "execution_count": null,
   "metadata": {},
   "outputs": [],
   "source": []
  }
 ],
 "metadata": {
  "kernelspec": {
   "display_name": "Orange Python 3",
   "language": "python",
   "name": "orange"
  },
  "language_info": {
   "codemirror_mode": {
    "name": "ipython",
    "version": 3
   },
   "file_extension": ".py",
   "mimetype": "text/x-python",
   "name": "python",
   "nbconvert_exporter": "python",
   "pygments_lexer": "ipython3",
   "version": "3.7.6"
  }
 },
 "nbformat": 4,
 "nbformat_minor": 4
}
